{
  "cells": [
    {
      "cell_type": "markdown",
      "metadata": {
        "id": "NpjY0BSmsiBK"
      },
      "source": [
        "# Exercises with Python"
      ]
    },
    {
      "cell_type": "code",
      "execution_count": 1,
      "metadata": {
        "id": "0GOs2XkSsiBK"
      },
      "outputs": [],
      "source": [
        "import numpy as np\n",
        "import matplotlib.pyplot as plt\n",
        "import pandas as pd"
      ]
    },
    {
      "cell_type": "markdown",
      "metadata": {
        "id": "K66LkhqRsiBL"
      },
      "source": [
        "## Exercise 1 - Numpy\n",
        "#### Creat an array of 450 random integers between -10 and 10"
      ]
    },
    {
      "cell_type": "code",
      "execution_count": 2,
      "metadata": {
        "colab": {
          "base_uri": "https://localhost:8080/"
        },
        "id": "3qQdXPNEsiBL",
        "outputId": "3bb988c9-c4c5-4d39-e186-1aa3a4175b28"
      },
      "outputs": [
        {
          "output_type": "execute_result",
          "data": {
            "text/plain": [
              "array([ -8,  -2,  -7,  -3,  -8, -10,  -7,   1,   9,  -8,   3,  -3,   4,\n",
              "        10,  -3,   1,   2,   0,  -6,  -2,   5,   8,   3,  10,  -5,  10,\n",
              "        -8,  -8,   2,  10,   3,  -3,  -5,  -5,  -1,   6,   0,  10,  -2,\n",
              "        -8,  -9,   9,   0,  -1,  -6,   9, -10,   3,   3,   1,   7,  -8,\n",
              "        -6,   1,   6,  -4,   7,  -3,   1,  -5,   3,  -4,   6,  -3,  -6,\n",
              "         8,   6,  -7,   4,   6,   8,   0,   3,  -8,  -6,   2,   5,  -8,\n",
              "         1,  -7,   8,   4,  -1,   6,   7,   7,   6,   8,   5,  -7,  -3,\n",
              "        -5,   4,   8, -10,   2,   3,   0,   1,   1,  -1,   5,   7,   6,\n",
              "       -10,  -1,   3,  -9,   0,  -2,   4,  10,   5,   3,  -9,   4,   6,\n",
              "       -10, -10,  -1,  -2,  10,  -5,   0,   9,   3,  -4, -10,  -8, -10,\n",
              "         0,   0,   5,  10,  10,  -6,   5,  -8,   1,   2, -10,  10,   5,\n",
              "         3,   3,  -3,  -8,   9,  -5,   0,  -9,  -2,   3,   0, -10,  -1,\n",
              "         0,   2,  -2,   9,  -1,   4,  -3,  -8,   1,  -2,   6,  -3,  -2,\n",
              "        -4,  -9,   2,  -1,  -8,   7,   6,  -5,  -8,   4,   5,   2,   3,\n",
              "         0,  10,  -1,   8,  -2, -10,   8,   8,   3,   9,  -3,  -8, -10,\n",
              "         1,  -1,  -8,  -5,   5,  -4,   3,   2,  -4,  -5,  -1,  -5,   4,\n",
              "         4,   4,   9, -10, -10,  -9,  -6,  -3,   4,  10,  -9,   3,   9,\n",
              "         4,   4,  -5,  -1,  10,   9,   9, -10,  -8,  -3,   9,  -2,  -8,\n",
              "        -4,  10,  -5,   7,  -8,   6,   1,  -8,  -2,  10,   3,   7,  -2,\n",
              "       -10,  -5,   2,   0,  -5,   9,  -7,   0,  -8,  -2, -10,  -8,  -9,\n",
              "         8,  -8,   5,   4,   5,  -7, -10,   2,  -5,   1,   9,   9,   8,\n",
              "        -5,   6,  -4,   4,  -8,   7,  -5,   7,   6,  -1,  -6,   3,  -8,\n",
              "         6,   1,  -1,  -3,   7,   5,   6,  -7,   7,  -9,  10,  -1,   4,\n",
              "        -8,  -1,   2,  10,   1,  -9,   6,   2,  -6,   1,  -4,  -4,   8,\n",
              "         9,  -8,  -7,   0,   5,   8,  -2,  -3,  -3,   0,  -5,  -4,  -2,\n",
              "        -9,  -1,  -8,   9,   6,  -8,  -3,   8,  -3,   8,   7,  -7,  -2,\n",
              "        -6,   9,   5,   3,   2,  -2,   1,  -4,   7,   1,   3,   7,  10,\n",
              "        -6,  10,  -6, -10,  -9,  -9, -10,  -8,  -4,   4,   3,   2,  -5,\n",
              "        -8,   5,   2,  -6,   5,  -3,   6,   5,  -4,  -1,   7, -10,   8,\n",
              "         3,  10,  10,   0,  -1,  -6,  -5,  -1,  -2,  -4,   5,  -8,  -5,\n",
              "        -8,  -7, -10,  -7,   6,  -5,  -5,   0,   8,  -6,  -4,  -6,  -2,\n",
              "         7,  -4,   6,   2,  -8,  -4,  -9,   1,   8,  -5,  10,   1,  -8,\n",
              "         3,  -9,  -6,  -4,   1,  -7,  -8,   6,  -9, -10,  10,   2,  -5,\n",
              "         1,   1,   8,  -5,  -1,   0,  -9,  -8,   0,   7,  10,   4,  -7,\n",
              "        -8,   5,  -5,   6,  10,   2,   8,  -7])"
            ]
          },
          "metadata": {},
          "execution_count": 2
        }
      ],
      "source": [
        "#create random integers with numpy\n",
        "array = np.random.randint(-10,11,450)\n",
        "\n",
        "array"
      ]
    },
    {
      "cell_type": "markdown",
      "metadata": {
        "id": "R-f2STqksiBL"
      },
      "source": [
        "#### Resize the above array as a 5x70 matrix.\n",
        "#### Is there a problem?\n",
        "\n",
        "#### If there is, correct it to a suitable shape.\n",
        "\n",
        "We check what dimension our array has:"
      ]
    },
    {
      "cell_type": "code",
      "execution_count": 3,
      "metadata": {
        "colab": {
          "base_uri": "https://localhost:8080/"
        },
        "id": "HtT8LMaysiBM",
        "outputId": "5bcd7d81-ccba-4664-93bf-9a3ec5845f9a"
      },
      "outputs": [
        {
          "output_type": "stream",
          "name": "stdout",
          "text": [
            "(450,)\n"
          ]
        }
      ],
      "source": [
        "# Your code:\n",
        "\n",
        "print(array.shape)\n",
        "\n",
        "new_matrix = array\n",
        "\n",
        "\n",
        "# Is there a problem? why?\n",
        "#The problem is that a matrix of 5x70 will only allow for 350 elements\n",
        "#The matrix will need to be reshaped to make this work\n",
        "\n"
      ]
    },
    {
      "cell_type": "code",
      "execution_count": 4,
      "metadata": {
        "colab": {
          "base_uri": "https://localhost:8080/"
        },
        "id": "2esg0i2IsiBM",
        "outputId": "55b980e2-731f-4be2-c6e6-fdd5e2f43b35"
      },
      "outputs": [
        {
          "output_type": "execute_result",
          "data": {
            "text/plain": [
              "(450,)"
            ]
          },
          "metadata": {},
          "execution_count": 4
        }
      ],
      "source": [
        "array.shape"
      ]
    },
    {
      "cell_type": "markdown",
      "metadata": {
        "id": "ISCs3lc9siBM"
      },
      "source": [
        "We resize:"
      ]
    },
    {
      "cell_type": "code",
      "execution_count": 83,
      "metadata": {
        "id": "kII4qSoXsiBM",
        "colab": {
          "base_uri": "https://localhost:8080/"
        },
        "outputId": "1528502e-f638-454e-e3da-eaea3d8c14ea"
      },
      "outputs": [
        {
          "output_type": "execute_result",
          "data": {
            "text/plain": [
              "array([[ -8,  -2,  -7,  -3,  -8, -10,  -7,   1,   9,  -8,   3,  -3,   4,\n",
              "         10,  -3,   1,   2,   0,  -6,  -2,   5,   8,   3,  10,  -5,  10,\n",
              "         -8,  -8,   2,  10,   3,  -3,  -5,  -5,  -1,   6,   0,  10,  -2,\n",
              "         -8,  -9,   9,   0,  -1,  -6,   9, -10,   3,   3,   1,   7,  -8,\n",
              "         -6,   1,   6,  -4,   7,  -3,   1,  -5,   3,  -4,   6,  -3,  -6,\n",
              "          8,   6,  -7,   4,   6,   8,   0,   3,  -8,  -6,   2,   5,  -8,\n",
              "          1,  -7,   8,   4,  -1,   6,   7,   7,   6,   8,   5,  -7],\n",
              "       [ -3,  -5,   4,   8, -10,   2,   3,   0,   1,   1,  -1,   5,   7,\n",
              "          6, -10,  -1,   3,  -9,   0,  -2,   4,  10,   5,   3,  -9,   4,\n",
              "          6, -10, -10,  -1,  -2,  10,  -5,   0,   9,   3,  -4, -10,  -8,\n",
              "        -10,   0,   0,   5,  10,  10,  -6,   5,  -8,   1,   2, -10,  10,\n",
              "          5,   3,   3,  -3,  -8,   9,  -5,   0,  -9,  -2,   3,   0, -10,\n",
              "         -1,   0,   2,  -2,   9,  -1,   4,  -3,  -8,   1,  -2,   6,  -3,\n",
              "         -2,  -4,  -9,   2,  -1,  -8,   7,   6,  -5,  -8,   4,   5],\n",
              "       [  2,   3,   0,  10,  -1,   8,  -2, -10,   8,   8,   3,   9,  -3,\n",
              "         -8, -10,   1,  -1,  -8,  -5,   5,  -4,   3,   2,  -4,  -5,  -1,\n",
              "         -5,   4,   4,   4,   9, -10, -10,  -9,  -6,  -3,   4,  10,  -9,\n",
              "          3,   9,   4,   4,  -5,  -1,  10,   9,   9, -10,  -8,  -3,   9,\n",
              "         -2,  -8,  -4,  10,  -5,   7,  -8,   6,   1,  -8,  -2,  10,   3,\n",
              "          7,  -2, -10,  -5,   2,   0,  -5,   9,  -7,   0,  -8,  -2, -10,\n",
              "         -8,  -9,   8,  -8,   5,   4,   5,  -7, -10,   2,  -5,   1],\n",
              "       [  9,   9,   8,  -5,   6,  -4,   4,  -8,   7,  -5,   7,   6,  -1,\n",
              "         -6,   3,  -8,   6,   1,  -1,  -3,   7,   5,   6,  -7,   7,  -9,\n",
              "         10,  -1,   4,  -8,  -1,   2,  10,   1,  -9,   6,   2,  -6,   1,\n",
              "         -4,  -4,   8,   9,  -8,  -7,   0,   5,   8,  -2,  -3,  -3,   0,\n",
              "         -5,  -4,  -2,  -9,  -1,  -8,   9,   6,  -8,  -3,   8,  -3,   8,\n",
              "          7,  -7,  -2,  -6,   9,   5,   3,   2,  -2,   1,  -4,   7,   1,\n",
              "          3,   7,  10,  -6,  10,  -6, -10,  -9,  -9, -10,  -8,  -4],\n",
              "       [  4,   3,   2,  -5,  -8,   5,   2,  -6,   5,  -3,   6,   5,  -4,\n",
              "         -1,   7, -10,   8,   3,  10,  10,   0,  -1,  -6,  -5,  -1,  -2,\n",
              "         -4,   5,  -8,  -5,  -8,  -7, -10,  -7,   6,  -5,  -5,   0,   8,\n",
              "         -6,  -4,  -6,  -2,   7,  -4,   6,   2,  -8,  -4,  -9,   1,   8,\n",
              "         -5,  10,   1,  -8,   3,  -9,  -6,  -4,   1,  -7,  -8,   6,  -9,\n",
              "        -10,  10,   2,  -5,   1,   1,   8,  -5,  -1,   0,  -9,  -8,   0,\n",
              "          7,  10,   4,  -7,  -8,   5,  -5,   6,  10,   2,   8,  -7]])"
            ]
          },
          "metadata": {},
          "execution_count": 83
        }
      ],
      "source": [
        "#resize matrix\n",
        "corrected_matrix = new_matrix.reshape(5,90)\n",
        "\n",
        "corrected_matrix"
      ]
    },
    {
      "cell_type": "markdown",
      "metadata": {
        "id": "jyhHOfuasiBN"
      },
      "source": [
        "#### Choose values greater than 0 from your corrected_matrix."
      ]
    },
    {
      "cell_type": "code",
      "execution_count": 18,
      "metadata": {
        "id": "rpZuGaIIsiBN",
        "colab": {
          "base_uri": "https://localhost:8080/"
        },
        "outputId": "84637ade-53ac-486a-b88a-a6a93dbed869"
      },
      "outputs": [
        {
          "output_type": "execute_result",
          "data": {
            "text/plain": [
              "array([ 1,  9,  3,  4, 10,  1,  2,  5,  8,  3, 10, 10,  2, 10,  3,  6, 10,\n",
              "        9,  9,  3,  3,  1,  7,  1,  6,  7,  1,  3,  6,  8,  6,  4,  6,  8,\n",
              "        3,  2,  5,  1,  8,  4,  6,  7,  7,  6,  8,  5,  4,  8,  2,  3,  1,\n",
              "        1,  5,  7,  6,  3,  4, 10,  5,  3,  4,  6, 10,  9,  3,  5, 10, 10,\n",
              "        5,  1,  2, 10,  5,  3,  3,  9,  3,  2,  9,  4,  1,  6,  2,  7,  6,\n",
              "        4,  5,  2,  3, 10,  8,  8,  8,  3,  9,  1,  5,  3,  2,  4,  4,  4,\n",
              "        9,  4, 10,  3,  9,  4,  4, 10,  9,  9,  9, 10,  7,  6,  1, 10,  3,\n",
              "        7,  2,  9,  8,  5,  4,  5,  2,  1,  9,  9,  8,  6,  4,  7,  7,  6,\n",
              "        3,  6,  1,  7,  5,  6,  7, 10,  4,  2, 10,  1,  6,  2,  1,  8,  9,\n",
              "        5,  8,  9,  6,  8,  8,  7,  9,  5,  3,  2,  1,  7,  1,  3,  7, 10,\n",
              "       10,  4,  3,  2,  5,  2,  5,  6,  5,  7,  8,  3, 10, 10,  5,  6,  8,\n",
              "        7,  6,  2,  1,  8, 10,  1,  3,  1,  6, 10,  2,  1,  1,  8,  7, 10,\n",
              "        4,  5,  6, 10,  2,  8])"
            ]
          },
          "metadata": {},
          "execution_count": 18
        }
      ],
      "source": [
        "#will check for positive values with numpy and include them if true\n",
        "positive_values = corrected_matrix[corrected_matrix > 0]\n",
        "\n",
        "positive_values"
      ]
    },
    {
      "cell_type": "markdown",
      "metadata": {
        "id": "d-fmAPugsiBN"
      },
      "source": [
        "#### Given this array x = np.array ([- 5,6, -7,9]), create another array in absolute value"
      ]
    },
    {
      "cell_type": "code",
      "execution_count": 20,
      "metadata": {
        "id": "mPgdi1gQsiBN",
        "outputId": "220099c8-832c-4137-dc82-c13cbdd1ce71",
        "colab": {
          "base_uri": "https://localhost:8080/"
        }
      },
      "outputs": [
        {
          "output_type": "execute_result",
          "data": {
            "text/plain": [
              "array([5, 6, 7, 9])"
            ]
          },
          "metadata": {},
          "execution_count": 20
        }
      ],
      "source": [
        "#use numpy to create array with absolute value\n",
        "x = np.array([-5,6,-7,9])\n",
        "\n",
        "absX = np.abs(x)\n",
        "\n",
        "absX"
      ]
    },
    {
      "cell_type": "markdown",
      "metadata": {
        "id": "QilLEakxsiBN"
      },
      "source": [
        "#### Given this array x = np.array ([- 5,6, -7,9]), transform it into a 2x2 matrix and calculate the maximum and minimum of each row and column."
      ]
    },
    {
      "cell_type": "code",
      "execution_count": 82,
      "metadata": {
        "id": "_kmryj1esiBN"
      },
      "outputs": [],
      "source": [
        "# reshape array\n",
        "x = np.array([-5,6,-7,9])\n",
        "\n",
        "x_reshaped = x.reshape(2,2)\n",
        "\n",
        "#calculate the max of the row and column\n",
        "max_row = np.max(x_reshaped, axis=1)\n",
        "max_column = np.max(x_reshaped, axis=0)\n",
        "\n",
        "#calculate the min of the row and column\n",
        "min_row = np.min(x_reshaped, axis=1)\n",
        "min_column = np.min(x_reshaped, axis=0)\n"
      ]
    },
    {
      "cell_type": "markdown",
      "metadata": {
        "id": "LLfDHumOsiBO"
      },
      "source": [
        "#### Create a matrix of ones with 3x3 range as a_ones, and modify the the a_ones[1][0] = 3  "
      ]
    },
    {
      "cell_type": "code",
      "execution_count": 28,
      "metadata": {
        "id": "-jxR7662siBO",
        "colab": {
          "base_uri": "https://localhost:8080/"
        },
        "outputId": "56cb95ef-f92c-4dd8-f50c-86e636895364"
      },
      "outputs": [
        {
          "output_type": "execute_result",
          "data": {
            "text/plain": [
              "array([[1., 1., 1.],\n",
              "       [3., 1., 1.],\n",
              "       [1., 1., 1.]])"
            ]
          },
          "metadata": {},
          "execution_count": 28
        }
      ],
      "source": [
        "#use np.ones() to create the matrix of ones\n",
        "\n",
        "a_ones = np.ones((3,3))\n",
        "\n",
        "a_ones[1][0] = 3\n",
        "\n",
        "a_ones\n"
      ]
    },
    {
      "cell_type": "markdown",
      "metadata": {
        "id": "rS0_0JVfsiBO"
      },
      "source": [
        "#### Compute dot product for a_ones and x_reshaped"
      ]
    },
    {
      "cell_type": "code",
      "execution_count": 81,
      "metadata": {
        "id": "97lsMEvnsiBO",
        "colab": {
          "base_uri": "https://localhost:8080/"
        },
        "outputId": "17023c6c-92d9-4236-e40b-6bd9efd96e61"
      },
      "outputs": [
        {
          "output_type": "execute_result",
          "data": {
            "text/plain": [
              "array([[-12.,  15.],\n",
              "       [-22.,  27.]])"
            ]
          },
          "metadata": {},
          "execution_count": 81
        }
      ],
      "source": [
        "#restructure ones to match with x_reshaped\n",
        "a_ones = np.ones((2,2))\n",
        "\n",
        "a_ones[1][0] = 3\n",
        "\n",
        "#find dot product\n",
        "dot_product = np.dot(a_ones, x_reshaped)\n",
        "\n",
        "dot_product\n",
        "\n",
        "\n",
        "# List the mathematical calculation steps\n",
        "#First row will be:\n",
        "# 1 ⋅ (−5) + 1 ⋅ (−7) = −5 − 7 = −12\n",
        "# 1 ⋅ 6 + 1 ⋅ 9 = 6 + 9 = 15\n",
        "\n",
        "#Second row will be:\n",
        "# 3 ⋅ (−5) + 1 ⋅ (−7) = −15 − 7 = −22\n",
        "# 3 ⋅ 6 + 1 ⋅ 9 = 18 + 9 = 27"
      ]
    },
    {
      "cell_type": "markdown",
      "metadata": {
        "id": "NC__V8eysiBO"
      },
      "source": [
        "## Exercise 2 - Plot Practice"
      ]
    },
    {
      "cell_type": "markdown",
      "metadata": {
        "id": "6xoLUhIDsiBO"
      },
      "source": [
        "#### Undergraduate student Instructions (CS457)\n",
        "\n",
        "- Let's think if we have this function: f (t) defined by: f (t) = 2t / (1 + t ^ 2) ^ 2 with t> 0.\n",
        "- Where t could be generated by np.linspace(0,10,100)\n",
        "- Provide plot results"
      ]
    },
    {
      "cell_type": "code",
      "execution_count": 80,
      "metadata": {
        "id": "cl2DwEvEsiBO"
      },
      "outputs": [],
      "source": [
        "#imports\n",
        "import numpy as np\n",
        "import matplotlib.pyplot as plt\n",
        "\n",
        "#define f(t)\n",
        "def f(t):\n",
        "  return 2 * t / (1 + t**2)**2\n",
        "\n",
        "#generate values\n",
        "t = np.linspace(0,10,100)"
      ]
    },
    {
      "cell_type": "code",
      "execution_count": 56,
      "metadata": {
        "id": "R9I6OqNLsiBO",
        "colab": {
          "base_uri": "https://localhost:8080/",
          "height": 488
        },
        "outputId": "57bcb482-5a91-4a77-8b30-4a4c61343551"
      },
      "outputs": [
        {
          "output_type": "display_data",
          "data": {
            "text/plain": [
              "<Figure size 640x480 with 1 Axes>"
            ],
            "image/png": "[encoded data removed]"
          },
          "metadata": {}
        }
      ],
      "source": [
        "# Plot graph with x, y and label set the fontsize = 14\n",
        "# Plot <Your Name> + title and set the fontsize = 14\n",
        "# plot size as (8,5)\n",
        "# plot with legend\n",
        "# plot with grid\n",
        "plt.plot(t,f(t))\n",
        "plt.xlabel(\"t\", fontsize=14)\n",
        "plt.ylabel(\"f(t)\", fontsize=14)\n",
        "plt.legend([\"f(t)\"], fontsize=14)\n",
        "plt.grid()\n",
        "\n",
        "plt.title(\"Miguel Tlatenchi + Graph of $y = \\\\frac{2x}{(1+x^2)^2}$\", fontsize=14)\n",
        "\n",
        "plt.show()"
      ]
    },
    {
      "cell_type": "markdown",
      "metadata": {
        "id": "8CSLMjIhsiBO"
      },
      "source": [
        "#### Graduate student Instructions (CS557)\n",
        "\n",
        "- Let's think if we have this function: f (t) defined by: f (t) = 2t / (1 + t ^ 2) ^ 2 with t> 0.\n",
        "- Where t could be generated by np.linspace(0,10,100)\n",
        "- Provide line graph with mask = star\n",
        "- Provide bar graph with any 5 points data"
      ]
    },
    {
      "cell_type": "code",
      "execution_count": null,
      "metadata": {
        "id": "0RQWpdJGsiBO"
      },
      "outputs": [],
      "source": [
        "# Your code:\n"
      ]
    },
    {
      "cell_type": "code",
      "execution_count": null,
      "metadata": {
        "id": "D6tyjc3VsiBO"
      },
      "outputs": [],
      "source": [
        "# Line Graph\n",
        "# Plot graph with x, y and label set the fontsize = 14\n",
        "# Plot <Your Name> + title and set the fontsize = 14\n",
        "# plot size as (8,5)\n",
        "# plot with legend\n",
        "# plot with grid\n",
        "\n",
        "\n",
        "plt.title(\"<Your Name> + Graph of $y = \\\\frac{2x}{(1+x^2)^2}$\", fontsize=14)\n",
        "\n",
        "plt.show()"
      ]
    },
    {
      "cell_type": "code",
      "execution_count": null,
      "metadata": {
        "id": "5KUg2UelsiBP"
      },
      "outputs": [],
      "source": [
        "# Bar Graph\n",
        "# Plot graph with x, y and label set the fontsize = 14\n",
        "# Plot <Your Name> + title and set the fontsize = 14\n",
        "# plot size as (8,5)\n",
        "# plot with legend\n",
        "# plot with grid\n",
        "\n",
        "\n",
        "plt.title(\"<Your Name> + Graph of $y = \\\\frac{2x}{(1+x^2)^2}$\", fontsize=14)\n",
        "\n",
        "plt.show()"
      ]
    },
    {
      "cell_type": "markdown",
      "metadata": {
        "id": "PTLLVoO5siBP"
      },
      "source": [
        "# Exercise 3 - Pandas"
      ]
    },
    {
      "cell_type": "markdown",
      "metadata": {
        "id": "3uyldHb-siBP"
      },
      "source": [
        "#### You have obtained a piece of data about a hill. Please manually assign this data to a dictionary.\n",
        "\n",
        "\n",
        "\"Hill Name\": [\"Everest\", \"K2\", \"Kangchenjunga\", \"Lhotse\", \"Makalu\", \"Cho Oyu\", \"Dhaulagiri\", \"Manaslu\", \"Nanga Parbat\", \"Annapurna\"],\n",
        "\n",
        "\"Height (m)\": [8848, 8611, 8586, 8516, 8485, 8188, 8167, 8163, 8126, 8091],\n",
        "\n",
        "\"Location\": [\"Nepal/China\", \"Pakistan/China\", \"Nepal/India\", \"Nepal/China\", \"Nepal/China\", \"Nepal/China\", \"Nepal\", \"Nepal\", \"Pakistan\", \"Nepal\"],\n",
        "\n",
        "\"First Ascent Year\": [1953, 1954, 1955, 1956, 1955, 1954, 1960, 1956, 1953, 1950],\n",
        "\n",
        "\"Prominence (m)\": [8848, 4017, 3922, 610, 2378, 2340, 3357, 3092, 4608, 2984]\n"
      ]
    },
    {
      "cell_type": "code",
      "execution_count": 79,
      "metadata": {
        "id": "TTgg0-rHsiBP"
      },
      "outputs": [],
      "source": [
        "#imports\n",
        "import pandas as pd\n",
        "\n",
        "#create dictionary\n",
        "hill_data =  {\n",
        "    \"Hill Name\": [\"Everest\", \"K2\", \"Kangchenjunga\", \"Lhotse\", \"Makalu\", \"Cho Oyu\", \"Dhaulagiri\", \"Manaslu\", \"Nanga Parbat\", \"Annapurna\"],\n",
        "    \"Height (m)\": [8848, 8611, 8586, 8516, 8485, 8188, 8167, 8163, 8126, 8091],\n",
        "    \"Location\": [\"Nepal/China\", \"Pakistan/China\", \"Nepal/India\", \"Nepal/China\", \"Nepal/China\", \"Nepal/China\", \"Nepal\", \"Nepal\", \"Pakistan\", \"Nepal\"],\n",
        "    \"First Ascent Year\": [1953, 1954, 1955, 1956, 1955, 1954, 1960, 1956, 1953, 1950],\n",
        "    \"Prominence (m)\": [8848, 4017, 3922, 610, 2378, 2340, 3357, 3092, 4608, 2984]\n",
        "}"
      ]
    },
    {
      "cell_type": "markdown",
      "metadata": {
        "id": "dvCk05ScsiBP"
      },
      "source": [
        "#### Convert your dictionary to a pandas dataframe with name hill_pd"
      ]
    },
    {
      "cell_type": "code",
      "execution_count": 63,
      "metadata": {
        "id": "iJXIYukRsiBP"
      },
      "outputs": [],
      "source": [
        "\n",
        "#Convert to dataframe\n",
        "hill_pd = pd.DataFrame(hill_data)\n"
      ]
    },
    {
      "cell_type": "markdown",
      "metadata": {
        "id": "4kEExLojsiBP"
      },
      "source": [
        "#### Save your hill_pd to csv"
      ]
    },
    {
      "cell_type": "code",
      "execution_count": 64,
      "metadata": {
        "id": "bg986pIEsiBP"
      },
      "outputs": [],
      "source": [
        "# save to csv\n",
        "hill_pd.to_csv(\"hill_data.csv\", index=False)\n"
      ]
    },
    {
      "cell_type": "markdown",
      "metadata": {
        "id": "gmyOrZ_ssiBP"
      },
      "source": [
        "#### Read your hill data from your csv"
      ]
    },
    {
      "cell_type": "code",
      "execution_count": 65,
      "metadata": {
        "id": "bkSuJ70lsiBP"
      },
      "outputs": [],
      "source": [
        "# read csv\n",
        "hill_pd = pd.read_csv(\"hill_data.csv\")\n"
      ]
    },
    {
      "cell_type": "markdown",
      "metadata": {
        "id": "kFG7GpLBsiBQ"
      },
      "source": [
        "#### Please select hills with an altitude higher than 8100 meters and express them in the form of a bar graph."
      ]
    },
    {
      "cell_type": "code",
      "execution_count": 76,
      "metadata": {
        "id": "ylHjWaVvsiBQ"
      },
      "outputs": [],
      "source": [
        "# select needed data\n",
        "selected_hill = hill_pd[hill_pd[\"Height (m)\"] > 8100]"
      ]
    },
    {
      "cell_type": "code",
      "execution_count": 78,
      "metadata": {
        "id": "JFDjq5SdsiBQ",
        "colab": {
          "base_uri": "https://localhost:8080/",
          "height": 472
        },
        "outputId": "300e1e19-6a6b-4455-c7ae-52fe27a4773f"
      },
      "outputs": [
        {
          "output_type": "display_data",
          "data": {
            "text/plain": [
              "<Figure size 640x480 with 1 Axes>"
            ],
            "image/png": "[encoded data removed]"
          },
          "metadata": {}
        }
      ],
      "source": [
        "# Visualization\n",
        "# Need to add x,y labels, titles and grid.\n",
        "# Please add your name on graph titles.\n",
        "\n",
        "\n",
        "# create graph\n",
        "plt.bar(selected_hill[\"Hill Name\"], selected_hill[\"Height (m)\"])\n",
        "plt.xlabel(\"Hill Name\")\n",
        "plt.ylabel(\"Height (m)\")\n",
        "plt.title(\"Miguel Tlatenchi + Bar Graph of Hills with Height > 8100 meters\")\n",
        "plt.show()\n"
      ]
    },
    {
      "cell_type": "markdown",
      "metadata": {
        "id": "1SDgiFx7siBT"
      },
      "source": [
        "#### For Graduate students only (CS557)\n",
        "\n",
        "Please add another set of visualizations using the **Prominence** data and explain their significance."
      ]
    },
    {
      "cell_type": "code",
      "execution_count": null,
      "metadata": {
        "id": "uHk2iuunsiBT"
      },
      "outputs": [],
      "source": []
    }
  ],
  "metadata": {
    "kernelspec": {
      "display_name": "Python 3 (ipykernel)",
      "language": "python",
      "name": "python3"
    },
    "language_info": {
      "codemirror_mode": {
        "name": "ipython",
        "version": 3
      },
      "file_extension": ".py",
      "mimetype": "text/x-python",
      "name": "python",
      "nbconvert_exporter": "python",
      "pygments_lexer": "ipython3",
      "version": "3.11.8"
    },
    "colab": {
      "provenance": [],
      "collapsed_sections": [
        "8CSLMjIhsiBO"
      ]
    }
  },
  "nbformat": 4,
  "nbformat_minor": 0
}