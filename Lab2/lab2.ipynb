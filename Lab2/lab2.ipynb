{
  "cells": [
    {
      "cell_type": "markdown",
      "id": "a4e97256",
      "metadata": {
        "id": "a4e97256"
      },
      "source": [
        "# **Lab Exercise: Linear and Logistic Regression**"
      ]
    },
    {
      "cell_type": "markdown",
      "id": "5f13e57d-2212-4089-9e8d-0776dfba9eb7",
      "metadata": {
        "id": "5f13e57d-2212-4089-9e8d-0776dfba9eb7"
      },
      "source": [
        "## **Linear Regression Construction**"
      ]
    },
    {
      "cell_type": "markdown",
      "id": "4f702d80",
      "metadata": {
        "id": "4f702d80"
      },
      "source": [
        "#### **Section 1: Setting Up and Importing Libraries**\n",
        "*Objective:* Load the required `Python libraries`.\n"
      ]
    },
    {
      "cell_type": "code",
      "execution_count": null,
      "id": "8b5c3769-8e6d-4774-86db-612a37163e71",
      "metadata": {
        "id": "8b5c3769-8e6d-4774-86db-612a37163e71"
      },
      "outputs": [],
      "source": [
        "import numpy as np\n",
        "import pandas as pd\n",
        "import matplotlib.pyplot as plt"
      ]
    },
    {
      "cell_type": "markdown",
      "id": "ce42d797-2458-4e79-9c04-ff6264334aa1",
      "metadata": {
        "id": "ce42d797-2458-4e79-9c04-ff6264334aa1"
      },
      "source": [
        "#### **Section 2: Linear Regression Data Preparation**\n",
        "\n",
        "*Objective:* Create a dataset for linear regression.\n",
        "\n",
        "Task: Write the code to:\n",
        "\n",
        "Create a dataset with features and target variables for linear regression.\n",
        "Visualize the data using Matplotlib.\n"
      ]
    },
    {
      "cell_type": "code",
      "execution_count": null,
      "id": "6eb0752f-ad50-42a9-8a61-ccb8e56408c8",
      "metadata": {
        "id": "6eb0752f-ad50-42a9-8a61-ccb8e56408c8",
        "colab": {
          "base_uri": "https://localhost:8080/",
          "height": 472
        },
        "outputId": "c9976eee-b56d-487d-84a3-dc515ee54a24"
      },
      "outputs": [
        {
          "output_type": "display_data",
          "data": {
            "text/plain": [
              "<Figure size 640x480 with 1 Axes>"
            ],
            "image/png": "[encoded data removed]"
          },
          "metadata": {}
        }
      ],
      "source": [
        "# Generate synthetic data for linear regression\n",
        "np.random.seed(42)  # For reproducibility\n",
        "X = np.random.randint(1, 100, 20)  # Features (independent variable)\n",
        "y = 3 * X + 7 + np.random.normal(0, 15, 20)  # Target with noise\n",
        "\n",
        "# Visualize the data\n",
        "\n",
        "# You need to use scatter chart to Visualize the input dataset X & y\n",
        "# Your chart need to label the x-axis, y-axis and title\n",
        "# Your chart should use grid\n",
        "\n",
        "# Your code\n",
        "plt.scatter(X, y)\n",
        "plt.xlabel('X')\n",
        "plt.ylabel('y')\n",
        "plt.title('Linear Regression Data')\n",
        "plt.grid(True)\n",
        "plt.show()"
      ]
    },
    {
      "cell_type": "markdown",
      "id": "796b61db-a62b-49b8-9469-759c4d606496",
      "metadata": {
        "id": "796b61db-a62b-49b8-9469-759c4d606496"
      },
      "source": [
        "#### **Section 3: Implementing Linear Regression**\n",
        "\n",
        "*Objective:* Practice linear regression construction.\n",
        "\n",
        "Task: Write the code to:\n",
        "\n",
        "Write a Linear Regression function to minimize the cost function and find the optimal parameters.\n",
        "\n",
        "\n",
        "For **Undergraduate students** (CS457): You can **choose** any of the following methods to implement it.\n",
        "1. You can use any scikit-learn library.\n",
        "2. Manually write cost function & gradient descent function to implement it.\n",
        "\n",
        "For **Graduate students** (CS557): You have to implement it by\n",
        "1. Manually write cost function & gradient descent function to implement it.\n"
      ]
    },
    {
      "cell_type": "code",
      "execution_count": null,
      "id": "569087ba-89de-4a5e-94f2-fba6d1ee4580",
      "metadata": {
        "id": "569087ba-89de-4a5e-94f2-fba6d1ee4580",
        "colab": {
          "base_uri": "https://localhost:8080/"
        },
        "outputId": "47de327d-b4b4-42b2-cdff-7b6248b55811"
      },
      "outputs": [
        {
          "output_type": "stream",
          "name": "stdout",
          "text": [
            "Coefficient (Slope): 2.0\n",
            "Intercept (Bias): 0.0\n"
          ]
        }
      ],
      "source": [
        "# Your code for linear regression model\n",
        "\n",
        "# Sklearn model\n",
        "import sklearn\n",
        "from sklearn.linear_model import LinearRegression\n",
        "\n",
        "# Prepare data\n",
        "X = np.array([1, 2, 3, 4, 5])\n",
        "y = np.array([2, 4, 6, 8, 10])\n",
        "\n",
        "x= x.reshape(-1, 1)\n",
        "\n",
        "# Building the Model\n",
        "model = LinearRegression()\n",
        "model.fit(x, y)\n",
        "\n",
        "# Review Model parameter\n",
        "print(\"Coefficient (Slope):\", model.coef_[0])\n",
        "print(\"Intercept (Bias):\", model.intercept_)"
      ]
    },
    {
      "cell_type": "code",
      "execution_count": null,
      "id": "0a60ce07-9050-4863-9a88-f538137313fd",
      "metadata": {
        "id": "0a60ce07-9050-4863-9a88-f538137313fd",
        "colab": {
          "base_uri": "https://localhost:8080/"
        },
        "outputId": "6cce077e-f967-4366-d38b-2b70967e160b"
      },
      "outputs": [
        {
          "output_type": "stream",
          "name": "stdout",
          "text": [
            "Optimized theta (parameters): [0.47141237 1.86405044]\n",
            "Final cost: 0.020502454085907274\n"
          ]
        }
      ],
      "source": [
        "# Your code for linear regression model\n",
        "\n",
        "# Manually write cost function & gradient descent\n",
        "\n",
        "# Reshape X to include a bias term (column of ones for the intercept) by np.column_stack\n",
        "X = np.column_stack((np.ones(len(x)), x))\n",
        "# your code\n",
        "\n",
        "# Define the cost function for linear regression\n",
        "def compute_cost(X, y, theta):\n",
        "    \"\"\"\n",
        "    Compute the cost function for linear regression.\n",
        "    \"\"\"\n",
        "    # your code\n",
        "    m = len(y)\n",
        "    predictions = np.dot(X, theta)\n",
        "    cost = (1 / (2 * m)) * np.sum((predictions - y) ** 2)\n",
        "\n",
        "    return cost\n",
        "\n",
        "\n",
        "\n",
        "# Define the gradient descent function\n",
        "def gradient_descent(X, y, alpha, iterations):\n",
        "    \"\"\"\n",
        "    Perform gradient descent to minimize the cost function.\n",
        "    \"\"\"\n",
        "\n",
        "    theta = np.zeros(2)  # Initialize theta (matching number of features)\n",
        "    m = len(y)  # Number of training examples\n",
        "\n",
        "\n",
        "\n",
        "    # Iterate to update theta with iterations\n",
        "    # your code\n",
        "    for _ in range(iterations):\n",
        "        predictions = np.dot(X, theta)\n",
        "        errors = predictions - y\n",
        "\n",
        "        #find gradient\n",
        "        gradient = np.dot(X.T, errors) / m\n",
        "\n",
        "        #update theta\n",
        "        theta -= alpha * gradient\n",
        "\n",
        "\n",
        "    return theta\n",
        "\n",
        "\n",
        "\n",
        "# Number of iterations for gradient descent\n",
        "iterations = 5000\n",
        "\n",
        "# Learning rate for gradient descent\n",
        "alpha = 0.0001\n",
        "\n",
        "# Call the gradient descent function to compute optimized parameters\n",
        "theta = gradient_descent(X, y, alpha, iterations)\n",
        "\n",
        "# Compute the cost using the optimized parameters\n",
        "cost = compute_cost(X, y, theta)\n",
        "\n",
        "# Print the results\n",
        "print(\"Optimized theta (parameters):\", theta)  # Optimized values for theta (intercept and slope)\n",
        "print(\"Final cost:\", cost)  # Final cost value to evaluate the fit"
      ]
    },
    {
      "cell_type": "markdown",
      "id": "7e9c2e68-0803-43b1-ac8c-8ca765d61b85",
      "metadata": {
        "id": "7e9c2e68-0803-43b1-ac8c-8ca765d61b85"
      },
      "source": [
        "### **Section 4: Visualizing the Linear Regression Line**\n",
        "\n",
        "*Objective:* Plot the regression line with the original data.\n",
        "\n",
        "Task: Plot the data points and the fitted regression line."
      ]
    },
    {
      "cell_type": "code",
      "execution_count": null,
      "id": "c1af75b3-958b-471a-90b2-1a9c6d40841c",
      "metadata": {
        "id": "c1af75b3-958b-471a-90b2-1a9c6d40841c",
        "colab": {
          "base_uri": "https://localhost:8080/",
          "height": 472
        },
        "outputId": "673f2a4b-92a8-45ca-9c26-5778c93a1d73"
      },
      "outputs": [
        {
          "output_type": "display_data",
          "data": {
            "text/plain": [
              "<Figure size 640x480 with 1 Axes>"
            ],
            "image/png": "[encoded data removed]"
          },
          "metadata": {}
        }
      ],
      "source": [
        "# Compare predictions with actual values\n",
        "y_pred = np.dot(X, theta)\n",
        "\n",
        "\n",
        "# Plot the data and regression line\n",
        "# You need to use scatter chart to Visualize the input dataset X & y\n",
        "# Your chart should plot the regression line using theta_optimal predictions\n",
        "# Your chart need to label the x-axis, y-axis and title\n",
        "# Your chart should use grid\n",
        "# Please add your name to the graph title\n",
        "\n",
        "# Your code:\n",
        "plt.scatter(x, y, label='Actual Data')\n",
        "plt.plot(x, y_pred, color='red', label='Regression Line')\n",
        "plt.xlabel('X')\n",
        "plt.ylabel('y')\n",
        "plt.title('Miguel Tlatenchi + Linear Regression')\n",
        "plt.legend()\n",
        "plt.grid(True)\n",
        "plt.show()"
      ]
    },
    {
      "cell_type": "markdown",
      "id": "d0db4e3a-42a2-4cdc-a4f0-d702babd213a",
      "metadata": {
        "id": "d0db4e3a-42a2-4cdc-a4f0-d702babd213a"
      },
      "source": [
        "## **Logistic Regression Construction**"
      ]
    },
    {
      "cell_type": "markdown",
      "id": "52bc9e31-8eea-4939-9f9b-99238a5afbb2",
      "metadata": {
        "id": "52bc9e31-8eea-4939-9f9b-99238a5afbb2"
      },
      "source": [
        "#### **Section 1: Logistic Regression Data Preparation**\n",
        "\n",
        "*Objective:* Prepare data for logistic regression.\n",
        "\n",
        "Task: Write the code to:\n",
        "\n",
        "Create synthetic data for binary classification.\n",
        "Visualize the data."
      ]
    },
    {
      "cell_type": "markdown",
      "id": "5576a731-78cc-45a5-aaba-0a327a833314",
      "metadata": {
        "id": "5576a731-78cc-45a5-aaba-0a327a833314"
      },
      "source": [
        "#### Dataset Description\n",
        "\n",
        "Study_hour_Data.csv - The dataset simulates a scenario where students' chances of passing a course are influenced by their study habits and class participation. It contains 200 observations and the following three columns:\n",
        "\n",
        "\n",
        "**Hours of Study:**\n",
        "Integer values representing the number of hours a student spends studying in a week.\n",
        "Range: 0 to 9.\n",
        "\n",
        "**Class Participation:**\n",
        "Float values between 0 and 1, representing the level of engagement in class activities.\n",
        "Higher values indicate greater participation.\n",
        "\n",
        "**Passed:**\n",
        "Binary target variable indicating whether the student passed the course:\n",
        "1: Passed.\n",
        "0: Did not pass.\n",
        "Determined based on a weighted combination of Hours of Study and Class Participation (with added noise), with a threshold value of 5."
      ]
    },
    {
      "cell_type": "code",
      "execution_count": null,
      "id": "ddb97210-5bc9-41b9-ae6c-52c1dd6d517c",
      "metadata": {
        "id": "ddb97210-5bc9-41b9-ae6c-52c1dd6d517c",
        "colab": {
          "base_uri": "https://localhost:8080/"
        },
        "outputId": "12e34356-4f62-4633-8d19-7477a8054ec8"
      },
      "outputs": [
        {
          "output_type": "stream",
          "name": "stdout",
          "text": [
            "<class 'pandas.core.frame.DataFrame'>\n",
            "RangeIndex: 200 entries, 0 to 199\n",
            "Data columns (total 3 columns):\n",
            " #   Column               Non-Null Count  Dtype  \n",
            "---  ------               --------------  -----  \n",
            " 0   Hours of Study       200 non-null    int64  \n",
            " 1   Class Participation  200 non-null    float64\n",
            " 2   Passed               200 non-null    int64  \n",
            "dtypes: float64(1), int64(2)\n",
            "memory usage: 4.8 KB\n",
            "None\n",
            "       Hours of Study  Class Participation      Passed\n",
            "count      200.000000           200.000000  200.000000\n",
            "mean         4.115000             0.505828    0.750000\n",
            "std          2.751295             0.289315    0.434099\n",
            "min          0.000000             0.009934    0.000000\n",
            "25%          2.000000             0.248919    0.750000\n",
            "50%          4.000000             0.492630    1.000000\n",
            "75%          6.000000             0.771555    1.000000\n",
            "max          9.000000             0.992191    1.000000\n"
          ]
        }
      ],
      "source": [
        "import pandas as pd\n",
        "#read data from Pandas\n",
        "\n",
        "# Load dataset\n",
        "# please use Study_hour_Data.csv as your target data\n",
        "data = pd.read_csv('Study_hour_Data.csv')\n",
        "\n",
        "# Display basic information\n",
        "print(data.info())\n",
        "print(data.describe())\n",
        "\n",
        "#Generate your training data X & y\n",
        "X = data['Hours of Study'].values\n",
        "y = data['Passed'].values"
      ]
    },
    {
      "cell_type": "markdown",
      "id": "ee3884a0-0234-49c0-b9c2-039d80f3c444",
      "metadata": {
        "id": "ee3884a0-0234-49c0-b9c2-039d80f3c444"
      },
      "source": [
        "#### **Section 2: Visualize the data**"
      ]
    },
    {
      "cell_type": "code",
      "execution_count": null,
      "id": "7c8183a3-e11b-46c0-9ddf-bdee3cc0bce8",
      "metadata": {
        "id": "7c8183a3-e11b-46c0-9ddf-bdee3cc0bce8",
        "colab": {
          "base_uri": "https://localhost:8080/",
          "height": 472
        },
        "outputId": "86555352-30a1-4454-bd02-2d72871b237b"
      },
      "outputs": [
        {
          "output_type": "display_data",
          "data": {
            "text/plain": [
              "<Figure size 640x480 with 1 Axes>"
            ],
            "image/png": "[encoded data removed]"
          },
          "metadata": {}
        }
      ],
      "source": [
        "# Visualize the data\n",
        "\n",
        "# You need to use scatter chart to Visualize the input dataset X & y\n",
        "# Your chart need to label the x-axis, y-axis and title\n",
        "# Your chart should use grid\n",
        "# Please add your name to the graph title\n",
        "\n",
        "# Your code:\n",
        "plt.scatter(X, y)\n",
        "plt.xlabel('Hours of Study')\n",
        "plt.ylabel('Passes (1=Yes, 0=No)')\n",
        "plt.title('Miguel Tlatenchi + Logistic Regression')\n",
        "plt.grid(True)\n",
        "plt.show()\n"
      ]
    },
    {
      "cell_type": "markdown",
      "id": "5317d5a8-c76a-46a3-ab2a-a9ce54b1e51f",
      "metadata": {
        "id": "5317d5a8-c76a-46a3-ab2a-a9ce54b1e51f"
      },
      "source": [
        "#### **Section 3: Implementing Logistic Regression**\n",
        "\n",
        "*Objective:* Implement logistic regression.\n",
        "\n",
        "For **Undergraduate students** (CS457): You can **choose** any of the following methods to implement it.\n",
        "1. You can use any scikit-learn library.\n",
        "2. Manually write cost function & gradient descent function to implement it.\n",
        "\n",
        "For **Graduate students** (CS557): You have to implement it by\n",
        "1. Manually write cost function & gradient descent function to implement it.\n",
        "\n",
        "\n",
        "Then, use the scipy.optimize library to fit the logistic regression model."
      ]
    },
    {
      "cell_type": "code",
      "execution_count": null,
      "id": "033c773f-d7e2-4a2a-90b2-4ccbb583df56",
      "metadata": {
        "id": "033c773f-d7e2-4a2a-90b2-4ccbb583df56",
        "colab": {
          "base_uri": "https://localhost:8080/"
        },
        "outputId": "01b91062-effc-44f5-ff11-78a3d930d214"
      },
      "outputs": [
        {
          "output_type": "stream",
          "name": "stdout",
          "text": [
            "Coefficient (Slope): [2.60933228]\n",
            "Intercept (Bias): [-4.68090909]\n"
          ]
        }
      ],
      "source": [
        "# Your code for logistic regression model\n",
        "\n",
        "# Sklearn model\n",
        "import sklearn\n",
        "from sklearn.linear_model import LogisticRegression\n",
        "from scipy.optimize import minimize\n",
        "\n",
        "# Prepare data\n",
        "x = data['Hours of Study'].values\n",
        "y = data['Passed'].values\n",
        "\n",
        "x= x.reshape(-1, 1)\n",
        "# Building the Model\n",
        "model = LogisticRegression()\n",
        "model.fit(x, y)\n",
        "\n",
        "# Review Model parameter\n",
        "print(\"Coefficient (Slope):\", model.coef_[0])\n",
        "print(\"Intercept (Bias):\", model.intercept_)"
      ]
    },
    {
      "cell_type": "code",
      "execution_count": null,
      "id": "4623ce3e-1131-4f91-b9f5-33e6258b1bd9",
      "metadata": {
        "id": "4623ce3e-1131-4f91-b9f5-33e6258b1bd9"
      },
      "outputs": [],
      "source": [
        "# Your logistic regression model\n",
        "\n",
        "# Define the sigmoid function\n",
        "def sigmoid(z):\n",
        "    # pass\n",
        "    return 1 / (1 + np.exp(-z))\n",
        "\n",
        "\n",
        "# Define the cost function for logistic regression\n",
        "def cost_function(theta, X, y):\n",
        "    # pass\n",
        "    m = len(y)\n",
        "    predictions = sigmoid(np.dot(X, theta))\n",
        "    cost = (-1 / m) * np.sum(y * np.log(predictions) + (1 - y) * np.log(1 - predictions))\n",
        "    return cost\n",
        "\n",
        "\n",
        "# Define the gradient function\n",
        "def gradient(theta, X, y):\n",
        "    #pass\n",
        "    m = len(y)\n",
        "    predictions = sigmoid(np.dot(X, theta))\n",
        "    gradient = (1 / m) * np.dot(X.T, (predictions - y))\n",
        "    return gradient\n"
      ]
    },
    {
      "cell_type": "code",
      "execution_count": null,
      "id": "3e835e8c-8d87-4630-95ac-2fd002683d82",
      "metadata": {
        "id": "3e835e8c-8d87-4630-95ac-2fd002683d82",
        "colab": {
          "base_uri": "https://localhost:8080/"
        },
        "outputId": "3a7cd4bc-20f0-4ff8-e3c0-792c9a884d3c"
      },
      "outputs": [
        {
          "output_type": "stream",
          "name": "stdout",
          "text": [
            "Optimized theta (parameters): [-7.13367179  3.90026323]\n"
          ]
        }
      ],
      "source": [
        "# Train your model\n",
        "\n",
        "# Add a bias term (intercept) to X\n",
        "X_bias = np.column_stack((np.ones(len(X)), X))\n",
        "\n",
        "# Initialize theta (parameters) to zeros\n",
        "theta = np.zeros(X_bias.shape[1])\n",
        "\n",
        "\n",
        "# Minimize the cost function using scipy.optimize\n",
        "optimal_theta = minimize(cost_function, theta, args=(X_bias, y), method='BFGS', jac=gradient).x\n",
        "\n",
        "# Print the optimized parameters (theta)\n",
        "print(\"Optimized theta (parameters):\", optimal_theta)"
      ]
    },
    {
      "cell_type": "markdown",
      "id": "3c5beb99-6509-4a52-9f6e-f83ff2773ce3",
      "metadata": {
        "id": "3c5beb99-6509-4a52-9f6e-f83ff2773ce3"
      },
      "source": [
        "#### **Section 4: Evaluate the model**\n",
        "\n",
        "*Objective:* Evaluate the model with the fitted data.\n",
        "\n",
        "Task: build the Predict function, and Calculate accuracy."
      ]
    },
    {
      "cell_type": "code",
      "execution_count": null,
      "id": "a69d76b1-c489-475b-bedb-baa20ecad40c",
      "metadata": {
        "id": "a69d76b1-c489-475b-bedb-baa20ecad40c"
      },
      "outputs": [],
      "source": [
        "# Predict function\n",
        "def predict(X, theta):\n",
        "    # your code\n",
        "    predictions = sigmoid(np.dot(X, theta))\n",
        "    return (predictions >= 0.5).astype(int)\n",
        "\n",
        "# Make predictions\n",
        "predictions = predict(X_bias, optimal_theta)"
      ]
    },
    {
      "cell_type": "code",
      "execution_count": null,
      "id": "336aa148-2d43-47d3-83e7-e8bd260f0f76",
      "metadata": {
        "id": "336aa148-2d43-47d3-83e7-e8bd260f0f76",
        "colab": {
          "base_uri": "https://localhost:8080/"
        },
        "outputId": "37e79ff8-1c8d-4bbe-af84-e4d481471792"
      },
      "outputs": [
        {
          "output_type": "stream",
          "name": "stdout",
          "text": [
            "Accuracy: 94.5 %\n"
          ]
        }
      ],
      "source": [
        "# Calculate accuracy\n",
        "accuracy = np.mean(predictions == y) * 100\n",
        "print(\"Accuracy:\", accuracy, \"%\")"
      ]
    },
    {
      "cell_type": "markdown",
      "id": "d45ba386-8248-41f5-9112-0ba46875eda5",
      "metadata": {
        "id": "d45ba386-8248-41f5-9112-0ba46875eda5"
      },
      "source": [
        "### **Section 5: Visualizing Logistic Regression Fit**\n",
        "\n",
        "*Objective:* Plot the logistic regression fit with the original data.\n",
        "\n",
        "Task: Plot the sigmoid curve over the range of input features."
      ]
    },
    {
      "cell_type": "code",
      "execution_count": null,
      "id": "7f29587c-cd62-4ea6-9226-ea904016778b",
      "metadata": {
        "id": "7f29587c-cd62-4ea6-9226-ea904016778b",
        "colab": {
          "base_uri": "https://localhost:8080/",
          "height": 472
        },
        "outputId": "1a1f88e1-2da5-431b-8346-4c76cbf3a68c"
      },
      "outputs": [
        {
          "output_type": "display_data",
          "data": {
            "text/plain": [
              "<Figure size 640x480 with 1 Axes>"
            ],
            "image/png": "[encoded data removed]"
          },
          "metadata": {}
        }
      ],
      "source": [
        "# Plot the data and regression line\n",
        "# You need to use scatter chart to Visualize the input dataset X & y\n",
        "# Your chart should plot the regression line using theta_optimal predictions\n",
        "# Your chart need to label the x-axis, y-axis and title\n",
        "# Your chart should use grid\n",
        "# Please add your name to the graph title\n",
        "\n",
        "hours_range = np.linspace(x.min(), x.max(), 100)\n",
        "probabilities = sigmoid(np.column_stack((np.ones(len(hours_range)), hours_range)) @ optimal_theta)\n",
        "\n",
        "plt.scatter(X, y, label='Actual Data')\n",
        "plt.plot(hours_range, probabilities, color='red', label='Logistic Regression Fit')\n",
        "\n",
        "plt.xlabel('Hours of Study')\n",
        "plt.ylabel('Probability of Passing')\n",
        "plt.title('Miguel Tlatenchi + Logistic Regression')\n",
        "plt.legend()\n",
        "plt.grid(True)\n",
        "plt.show()\n"
      ]
    },
    {
      "cell_type": "code",
      "execution_count": null,
      "id": "27191b69-a42c-40df-ab8e-a3ed86abc7a5",
      "metadata": {
        "id": "27191b69-a42c-40df-ab8e-a3ed86abc7a5"
      },
      "outputs": [],
      "source": []
    }
  ],
  "metadata": {
    "kernelspec": {
      "display_name": "Python 3 (ipykernel)",
      "language": "python",
      "name": "python3"
    },
    "language_info": {
      "codemirror_mode": {
        "name": "ipython",
        "version": 3
      },
      "file_extension": ".py",
      "mimetype": "text/x-python",
      "name": "python",
      "nbconvert_exporter": "python",
      "pygments_lexer": "ipython3",
      "version": "3.11.8"
    },
    "colab": {
      "provenance": []
    }
  },
  "nbformat": 4,
  "nbformat_minor": 5
}