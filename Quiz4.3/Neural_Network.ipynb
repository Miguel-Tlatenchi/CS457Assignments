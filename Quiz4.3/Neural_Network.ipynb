{
  "cells": [
    {
      "cell_type": "markdown",
      "metadata": {
        "button": false,
        "new_sheet": false,
        "run_control": {
          "read_only": false
        },
        "id": "UEpm1UIUsuQi"
      },
      "source": [
        "# Introduction\n"
      ]
    },
    {
      "cell_type": "markdown",
      "metadata": {
        "button": false,
        "new_sheet": false,
        "run_control": {
          "read_only": false
        },
        "id": "-8YjslxosuQj"
      },
      "source": [
        "In this lecture, we will build a neural network from scratch and code how it performs predictions using forward propagation. Please note that all deep learning libraries have the entire training and prediction processes implemented, and so in practice you wouldn't really need to build a neural network from scratch. However, hopefully completing this lab will help you understand neural networks and how they work even better."
      ]
    },
    {
      "cell_type": "markdown",
      "metadata": {
        "button": false,
        "new_sheet": false,
        "run_control": {
          "read_only": false
        },
        "id": "dGhBsvGysuQk"
      },
      "source": [
        "## Recap"
      ]
    },
    {
      "cell_type": "markdown",
      "metadata": {
        "button": false,
        "new_sheet": false,
        "run_control": {
          "read_only": false
        },
        "id": "PqozW15xsuQk"
      },
      "source": [
        "From the lectures, let's recap how a neural network makes predictions through the forward propagation process. Here is a neural network that takes two inputs, has one hidden layer with two nodes, and an output layer with one node."
      ]
    },
    {
      "cell_type": "markdown",
      "metadata": {
        "button": false,
        "new_sheet": false,
        "run_control": {
          "read_only": false
        },
        "id": "N0B79oR1suQk"
      },
      "source": [
        "   "
      ]
    },
    {
      "cell_type": "markdown",
      "metadata": {
        "button": false,
        "new_sheet": false,
        "run_control": {
          "read_only": false
        },
        "id": "7ZAP8qlxsuQl"
      },
      "source": [
        "<img src=\"http://cocl.us/neural_network_example\" alt=\"Neural Network Example\" width=600px>"
      ]
    },
    {
      "cell_type": "markdown",
      "metadata": {
        "button": false,
        "new_sheet": false,
        "run_control": {
          "read_only": false
        },
        "id": "7nz5TJPqsuQl"
      },
      "source": [
        "  "
      ]
    },
    {
      "cell_type": "markdown",
      "metadata": {
        "button": false,
        "new_sheet": false,
        "run_control": {
          "read_only": false
        },
        "id": "MyX-Qfe6suQl"
      },
      "source": [
        "Let's start by randomly initializing the weights and the biases in the network. We have 6 weights and 3 biases, one for each node in the hidden layer as well as for each node in the output layer."
      ]
    },
    {
      "cell_type": "code",
      "execution_count": 1,
      "metadata": {
        "button": false,
        "new_sheet": false,
        "run_control": {
          "read_only": false
        },
        "id": "PKRDurGPsuQl"
      },
      "outputs": [],
      "source": [
        "import numpy as np # import Numpy library to generate\n",
        "\n",
        "weights = np.around(np.random.uniform(size=6), decimals=2) # initialize the weights\n",
        "biases = np.around(np.random.uniform(size=3), decimals=2) # initialize the biases"
      ]
    },
    {
      "cell_type": "markdown",
      "metadata": {
        "button": false,
        "new_sheet": false,
        "run_control": {
          "read_only": false
        },
        "id": "gA0-qVlLsuQm"
      },
      "source": [
        "Let's print the weights and biases for sanity check."
      ]
    },
    {
      "cell_type": "code",
      "execution_count": 2,
      "metadata": {
        "button": false,
        "new_sheet": false,
        "run_control": {
          "read_only": false
        },
        "colab": {
          "base_uri": "https://localhost:8080/"
        },
        "id": "9AQna4XrsuQm",
        "outputId": "4d96ad4a-9fb4-4e32-d431-e59ab0e524bb"
      },
      "outputs": [
        {
          "output_type": "stream",
          "name": "stdout",
          "text": [
            "[0.81 0.1  0.58 0.02 0.53 0.87]\n",
            "[0.26 0.81 0.68]\n"
          ]
        }
      ],
      "source": [
        "print(weights)\n",
        "print(biases)"
      ]
    },
    {
      "cell_type": "markdown",
      "metadata": {
        "id": "wR1YLGfGsuQm"
      },
      "source": [
        "#### Input layer"
      ]
    },
    {
      "cell_type": "markdown",
      "metadata": {
        "button": false,
        "new_sheet": false,
        "run_control": {
          "read_only": false
        },
        "id": "2pM_YWrpsuQm"
      },
      "source": [
        "Now that we have the weights and the biases defined for the network, let's compute the output for a given input, $x_1$ and $x_2$."
      ]
    },
    {
      "cell_type": "code",
      "execution_count": 3,
      "metadata": {
        "button": false,
        "new_sheet": false,
        "run_control": {
          "read_only": false
        },
        "colab": {
          "base_uri": "https://localhost:8080/"
        },
        "id": "5PeKBom0suQm",
        "outputId": "c1c260db-6b5c-44cb-94ee-c4087172c26f"
      },
      "outputs": [
        {
          "output_type": "stream",
          "name": "stdout",
          "text": [
            "x1 is 0.5 and x2 is 0.85\n"
          ]
        }
      ],
      "source": [
        "x_1 = 0.5 # input 1\n",
        "x_2 = 0.85 # input 2\n",
        "\n",
        "print('x1 is {} and x2 is {}'.format(x_1, x_2))"
      ]
    },
    {
      "cell_type": "markdown",
      "metadata": {
        "button": false,
        "new_sheet": false,
        "run_control": {
          "read_only": false
        },
        "id": "nSZxmeHJsuQm"
      },
      "source": [
        "Let's start by computing the wighted sum of the inputs, $z_{1, 1}$, at the first node of the hidden layer."
      ]
    },
    {
      "cell_type": "code",
      "execution_count": 5,
      "metadata": {
        "button": false,
        "new_sheet": false,
        "run_control": {
          "read_only": false
        },
        "colab": {
          "base_uri": "https://localhost:8080/"
        },
        "id": "Pkd3V3eJsuQm",
        "outputId": "455718b4-8ff3-454d-db6d-008db69c8e0e"
      },
      "outputs": [
        {
          "output_type": "stream",
          "name": "stdout",
          "text": [
            "Miguel Tlatenchi knew that the weighted sum of the inputs at the first node in the hidden layer is 0.75\n"
          ]
        }
      ],
      "source": [
        "z_11 = x_1 * weights[0] + x_2 * weights[1] + biases[0]\n",
        "\n",
        "print('Miguel Tlatenchi knew that the weighted sum of the inputs at the first node in the hidden layer is {}'.format(z_11))"
      ]
    },
    {
      "cell_type": "markdown",
      "metadata": {
        "button": false,
        "new_sheet": false,
        "run_control": {
          "read_only": false
        },
        "id": "rsWZzyMusuQn"
      },
      "source": [
        "Next, let's compute the weighted sum of the inputs, $z_{1, 2}$, at the second node of the hidden layer. Assign the value to **z_12**."
      ]
    },
    {
      "cell_type": "code",
      "execution_count": 6,
      "metadata": {
        "button": false,
        "new_sheet": false,
        "run_control": {
          "read_only": false
        },
        "id": "yJbF8CiEsuQn"
      },
      "outputs": [],
      "source": [
        "### type code here\n",
        "z_12 = x_1 * weights[2] + x_2 * weights[3] + biases[1]"
      ]
    },
    {
      "cell_type": "markdown",
      "metadata": {
        "button": false,
        "new_sheet": false,
        "run_control": {
          "read_only": false
        },
        "id": "Csl30FHxsuQn"
      },
      "source": [
        "Double-click __here__ for the solution.\n",
        "<!-- The correct answer is:\n",
        "z_12 = x_1 * weights[2] + x_2 * weights[3] + biases[1]\n",
        "-->"
      ]
    },
    {
      "cell_type": "markdown",
      "metadata": {
        "button": false,
        "new_sheet": false,
        "run_control": {
          "read_only": false
        },
        "id": "uXBssgvgsuQn"
      },
      "source": [
        "Print the weighted sum."
      ]
    },
    {
      "cell_type": "code",
      "execution_count": 8,
      "metadata": {
        "button": false,
        "new_sheet": false,
        "run_control": {
          "read_only": false
        },
        "colab": {
          "base_uri": "https://localhost:8080/"
        },
        "id": "BxIoMWpAsuQn",
        "outputId": "e4df638e-0dfa-4287-e495-947c763b8a11"
      },
      "outputs": [
        {
          "output_type": "stream",
          "name": "stdout",
          "text": [
            "Miguel Tlatenchi knew that the weighted sum of the inputs at the second node in the hidden layer is 1.117\n"
          ]
        }
      ],
      "source": [
        "print('Miguel Tlatenchi knew that the weighted sum of the inputs at the second node in the hidden layer is {}'.format(np.around(z_12, decimals=4)))"
      ]
    },
    {
      "cell_type": "markdown",
      "metadata": {
        "id": "1RFfKjT3suQn"
      },
      "source": [
        "#### Hidden layer"
      ]
    },
    {
      "cell_type": "markdown",
      "metadata": {
        "button": false,
        "new_sheet": false,
        "run_control": {
          "read_only": false
        },
        "id": "ifQQJUmgsuQn"
      },
      "source": [
        "Next, assuming a **sigmoid** activation function, let's compute the activation of the first node, $a_{1, 1}$, in the hidden layer."
      ]
    },
    {
      "cell_type": "code",
      "execution_count": 9,
      "metadata": {
        "button": false,
        "new_sheet": false,
        "run_control": {
          "read_only": false
        },
        "colab": {
          "base_uri": "https://localhost:8080/"
        },
        "id": "u2sRoRatsuQn",
        "outputId": "647b7ed8-c4c7-41be-f8c1-543441e04e41"
      },
      "outputs": [
        {
          "output_type": "stream",
          "name": "stdout",
          "text": [
            "The activation of the first node in the hidden layer is 0.6792\n"
          ]
        }
      ],
      "source": [
        "a_11 = 1.0 / (1.0 + np.exp(-z_11))\n",
        "\n",
        "print('The activation of the first node in the hidden layer is {}'.format(np.around(a_11, decimals=4)))"
      ]
    },
    {
      "cell_type": "markdown",
      "metadata": {
        "button": false,
        "new_sheet": false,
        "run_control": {
          "read_only": false
        },
        "id": "5gv4jYlzsuQn"
      },
      "source": [
        "Let's also compute the activation of the second node, $a_{1, 2}$, in the hidden layer. Assign the value to **a_12**."
      ]
    },
    {
      "cell_type": "code",
      "execution_count": 10,
      "metadata": {
        "button": false,
        "new_sheet": false,
        "run_control": {
          "read_only": false
        },
        "colab": {
          "base_uri": "https://localhost:8080/"
        },
        "id": "nAEfSk_wsuQn",
        "outputId": "29e21461-216b-4028-c77f-f25acf3a4154"
      },
      "outputs": [
        {
          "output_type": "stream",
          "name": "stdout",
          "text": [
            "The activation of the first node in the hidden layer is 0.7534\n"
          ]
        }
      ],
      "source": [
        "### type code here\n",
        "\n",
        "a_12 = 1.0 / (1.0 + np.exp(-z_12))\n",
        "\n",
        "print('The activation of the first node in the hidden layer is {}'.format(np.around(a_12, decimals=4)))"
      ]
    },
    {
      "cell_type": "markdown",
      "metadata": {
        "button": false,
        "new_sheet": false,
        "run_control": {
          "read_only": false
        },
        "id": "fd_kAUJNsuQo"
      },
      "source": [
        "Print the activation of the second node."
      ]
    },
    {
      "cell_type": "code",
      "execution_count": 11,
      "metadata": {
        "button": false,
        "new_sheet": false,
        "run_control": {
          "read_only": false
        },
        "colab": {
          "base_uri": "https://localhost:8080/"
        },
        "id": "zULdrpYNsuQo",
        "outputId": "a6fe3212-c249-4c0b-ff21-c891f0101ec7"
      },
      "outputs": [
        {
          "output_type": "stream",
          "name": "stdout",
          "text": [
            "The activation of the second node in the hidden layer is 0.7534\n"
          ]
        }
      ],
      "source": [
        "print('The activation of the second node in the hidden layer is {}'.format(np.around(a_12, decimals=4)))"
      ]
    },
    {
      "cell_type": "markdown",
      "metadata": {
        "id": "WIdVS1kXsuQo"
      },
      "source": [
        "#### Output layer"
      ]
    },
    {
      "cell_type": "markdown",
      "metadata": {
        "button": false,
        "new_sheet": false,
        "run_control": {
          "read_only": false
        },
        "id": "RYByuhotsuQo"
      },
      "source": [
        "Now these activations will serve as the inputs to the output layer. So, let's compute the weighted sum of these inputs to the node in the output layer. Assign the value to **z_2**."
      ]
    },
    {
      "cell_type": "code",
      "execution_count": 12,
      "metadata": {
        "button": false,
        "new_sheet": false,
        "run_control": {
          "read_only": false
        },
        "id": "vpCb-NH2suQo"
      },
      "outputs": [],
      "source": [
        "### type code here\n",
        "z_2 = a_11 * weights[4] + a_12 * weights[5] + biases[2]"
      ]
    },
    {
      "cell_type": "markdown",
      "metadata": {
        "button": false,
        "new_sheet": false,
        "run_control": {
          "read_only": false
        },
        "id": "onEp79KFsuQo"
      },
      "source": [
        "Print the weighted sum of the inputs at the node in the output layer."
      ]
    },
    {
      "cell_type": "code",
      "execution_count": 13,
      "metadata": {
        "button": false,
        "new_sheet": false,
        "run_control": {
          "read_only": false
        },
        "colab": {
          "base_uri": "https://localhost:8080/"
        },
        "id": "UKrTbvtXsuQo",
        "outputId": "2c9fec27-b7f5-4a52-9611-e3f68764be67"
      },
      "outputs": [
        {
          "output_type": "stream",
          "name": "stdout",
          "text": [
            "The weighted sum of the inputs at the node in the output layer is 1.6955\n"
          ]
        }
      ],
      "source": [
        "print('The weighted sum of the inputs at the node in the output layer is {}'.format(np.around(z_2, decimals=4)))"
      ]
    },
    {
      "cell_type": "markdown",
      "metadata": {
        "button": false,
        "new_sheet": false,
        "run_control": {
          "read_only": false
        },
        "id": "nkIuJ_pCsuQo"
      },
      "source": [
        "Finally, let's compute the output of the network as the activation of the node in the output layer. Assign the value to **a_2**."
      ]
    },
    {
      "cell_type": "code",
      "execution_count": 14,
      "metadata": {
        "button": false,
        "new_sheet": false,
        "run_control": {
          "read_only": false
        },
        "id": "QSjCYjwjsuQo"
      },
      "outputs": [],
      "source": [
        "### type code here\n",
        "a_2 = 1.0/(1.0 + np.exp(-z_2))"
      ]
    },
    {
      "cell_type": "markdown",
      "metadata": {
        "button": false,
        "new_sheet": false,
        "run_control": {
          "read_only": false
        },
        "id": "gtR6d4OGsuQo"
      },
      "source": [
        "Print the activation of the node in the output layer which is equivalent to the prediction made by the network."
      ]
    },
    {
      "cell_type": "code",
      "execution_count": 15,
      "metadata": {
        "button": false,
        "new_sheet": false,
        "run_control": {
          "read_only": false
        },
        "colab": {
          "base_uri": "https://localhost:8080/"
        },
        "id": "rPhlfSLisuQo",
        "outputId": "fa8a34ae-2b2f-4a8f-d080-b6a5e8b893f2"
      },
      "outputs": [
        {
          "output_type": "stream",
          "name": "stdout",
          "text": [
            "The output of the network for x1 = 0.5 and x2 = 0.85 is 0.8449\n"
          ]
        }
      ],
      "source": [
        "print('The output of the network for x1 = 0.5 and x2 = 0.85 is {}'.format(np.around(a_2, decimals=4)))"
      ]
    },
    {
      "cell_type": "markdown",
      "metadata": {
        "button": false,
        "new_sheet": false,
        "run_control": {
          "read_only": false
        },
        "id": "lA-i46yssuQp"
      },
      "source": [
        "<hr>"
      ]
    },
    {
      "cell_type": "markdown",
      "metadata": {
        "button": false,
        "new_sheet": false,
        "run_control": {
          "read_only": false
        },
        "id": "TEJ5fVwnsuQp"
      },
      "source": [
        "Obviously, neural networks for real problems are composed of many hidden layers and many more nodes in each layer. So, we can't continue making predictions using this very inefficient approach of computing the weighted sum at each node and the activation of each node manually."
      ]
    },
    {
      "cell_type": "markdown",
      "metadata": {
        "button": false,
        "new_sheet": false,
        "run_control": {
          "read_only": false
        },
        "id": "cfkDxzvzsuQq"
      },
      "source": [
        "In order to code an automatic way of making predictions, let's generalize our network. A general network would take $n$ inputs, would have many hidden layers, each hidden layer having $m$ nodes, and would have an output layer. Although the network is showing one hidden layer, but we will code the network to have many hidden layers. Similarly, although the network shows an output layer with one node, we will code the network to have more than one node in the output layer."
      ]
    },
    {
      "cell_type": "markdown",
      "metadata": {
        "id": "59Lb4Iy_suQq"
      },
      "source": [
        "<img src=\"http://cocl.us/general_neural_network\" alt=\"Neural Network General\" width=600px>"
      ]
    },
    {
      "cell_type": "markdown",
      "metadata": {
        "id": "psv_0_zusuQq"
      },
      "source": [
        "<a id='item12'></a>"
      ]
    },
    {
      "cell_type": "markdown",
      "metadata": {
        "button": false,
        "new_sheet": false,
        "run_control": {
          "read_only": false
        },
        "id": "fWs6AypysuQq"
      },
      "source": [
        "## Practice: Initialize a Network"
      ]
    },
    {
      "cell_type": "markdown",
      "metadata": {
        "button": false,
        "new_sheet": false,
        "run_control": {
          "read_only": false
        },
        "id": "wqA5EHRcsuQq"
      },
      "source": [
        "Let's start by formally defining the structure of the network."
      ]
    },
    {
      "cell_type": "code",
      "execution_count": 16,
      "metadata": {
        "button": false,
        "new_sheet": false,
        "run_control": {
          "read_only": false
        },
        "id": "FJG5kC_gsuQq"
      },
      "outputs": [],
      "source": [
        "n = 2 # number of inputs\n",
        "num_hidden_layers = 2 # number of hidden layers\n",
        "m = [2, 2] # number of nodes in each hidden layer\n",
        "num_nodes_output = 2 # number of nodes in the output layer"
      ]
    },
    {
      "cell_type": "markdown",
      "metadata": {
        "button": false,
        "new_sheet": false,
        "run_control": {
          "read_only": false
        },
        "id": "1VhdXfgHsuQq"
      },
      "source": [
        "Now that we defined the structure of the network, let's go ahead and inititailize the weights and the biases in the network to random numbers. In order to be able to initialize the weights and the biases to random numbers, we will need to import the **Numpy** library."
      ]
    },
    {
      "cell_type": "code",
      "execution_count": 17,
      "metadata": {
        "button": false,
        "new_sheet": false,
        "run_control": {
          "read_only": false
        },
        "colab": {
          "base_uri": "https://localhost:8080/"
        },
        "id": "THfssMPFsuQq",
        "outputId": "9bc9ce8f-80ae-4c16-90aa-30f9ad8d3535"
      },
      "outputs": [
        {
          "output_type": "stream",
          "name": "stdout",
          "text": [
            "{'layer_1': {'node_1': {'weights': array([0.8, 0.6]), 'bias': array([0.86])}, 'node_2': {'weights': array([0.75, 0.78]), 'bias': array([0.02])}}, 'layer_2': {'node_1': {'weights': array([0.08, 0.86]), 'bias': array([0.74])}, 'node_2': {'weights': array([0.3 , 0.79]), 'bias': array([0.76])}}, 'output': {'node_1': {'weights': array([0.12, 0.8 ]), 'bias': array([0.66])}, 'node_2': {'weights': array([0.3 , 0.41]), 'bias': array([0.75])}}}\n"
          ]
        }
      ],
      "source": [
        "import numpy as np # import the Numpy library\n",
        "\n",
        "num_nodes_previous = n # number of nodes in the previous layer\n",
        "\n",
        "network = {} # initialize network an an empty dictionary\n",
        "\n",
        "# loop through each layer and randomly initialize the weights and biases associated with each node\n",
        "# notice how we are adding 1 to the number of hidden layers in order to include the output layer\n",
        "for layer in range(num_hidden_layers + 1):\n",
        "\n",
        "    # determine name of layer\n",
        "    if layer == num_hidden_layers:\n",
        "        layer_name = 'output'\n",
        "        num_nodes = num_nodes_output\n",
        "    else:\n",
        "        layer_name = 'layer_{}'.format(layer + 1)\n",
        "        num_nodes = m[layer]\n",
        "\n",
        "    # initialize weights and biases associated with each node in the current layer\n",
        "    network[layer_name] = {}\n",
        "    for node in range(num_nodes):\n",
        "        node_name = 'node_{}'.format(node+1)\n",
        "        network[layer_name][node_name] = {\n",
        "            'weights': np.around(np.random.uniform(size=num_nodes_previous), decimals=2),\n",
        "            'bias': np.around(np.random.uniform(size=1), decimals=2),\n",
        "        }\n",
        "\n",
        "    num_nodes_previous = num_nodes\n",
        "\n",
        "print(network) # print network"
      ]
    },
    {
      "cell_type": "markdown",
      "metadata": {
        "button": false,
        "new_sheet": false,
        "run_control": {
          "read_only": false
        },
        "id": "2-3VHs4ssuQr"
      },
      "source": [
        "Awesome! So now with the above code, we are able to initialize the weights and the biases pertaining to any network of any number of hidden layers and number of nodes in each layer. But let's put this code in a function so that we are able to repetitively execute all this code whenever we want to construct a neural network.\n"
      ]
    },
    {
      "cell_type": "code",
      "execution_count": 18,
      "metadata": {
        "button": false,
        "new_sheet": false,
        "run_control": {
          "read_only": false
        },
        "id": "90hd9JRmsuQr"
      },
      "outputs": [],
      "source": [
        "def initialize_network(num_inputs, num_hidden_layers, num_nodes_hidden, num_nodes_output):\n",
        "\n",
        "    num_nodes_previous = num_inputs # number of nodes in the previous layer\n",
        "\n",
        "    network = {}\n",
        "\n",
        "    # loop through each layer and randomly initialize the weights and biases associated with each layer\n",
        "    for layer in range(num_hidden_layers + 1):\n",
        "\n",
        "        if layer == num_hidden_layers:\n",
        "            layer_name = 'output' # name last layer in the network output\n",
        "            num_nodes = num_nodes_output\n",
        "        else:\n",
        "            layer_name = 'layer_{}'.format(layer + 1) # otherwise give the layer a number\n",
        "            num_nodes = num_nodes_hidden[layer]\n",
        "\n",
        "        # initialize weights and bias for each node\n",
        "        network[layer_name] = {}\n",
        "        for node in range(num_nodes):\n",
        "            node_name = 'node_{}'.format(node+1)\n",
        "            network[layer_name][node_name] = {\n",
        "                'weights': np.around(np.random.uniform(size=num_nodes_previous), decimals=2),\n",
        "                'bias': np.around(np.random.uniform(size=1), decimals=2),\n",
        "            }\n",
        "\n",
        "        num_nodes_previous = num_nodes\n",
        "\n",
        "    return network # return the network"
      ]
    },
    {
      "cell_type": "markdown",
      "metadata": {
        "button": false,
        "new_sheet": false,
        "run_control": {
          "read_only": false
        },
        "id": "Kvp-mztbsuQr"
      },
      "source": [
        "#### Use the *initialize_network* function to create a network that:\n",
        "\n",
        "1. takes 5 inputs\n",
        "2. has three hidden layers\n",
        "3. has 3 nodes in the first layer, 2 nodes in the second layer, and 3 nodes in the third layer\n",
        "4. has 1 node in the output layer\n",
        "\n",
        "Call the small network **Network**."
      ]
    },
    {
      "cell_type": "code",
      "execution_count": 19,
      "metadata": {
        "button": false,
        "new_sheet": false,
        "run_control": {
          "read_only": false
        },
        "colab": {
          "base_uri": "https://localhost:8080/"
        },
        "id": "CMHvNzA5suQr",
        "outputId": "8baaeecb-bb30-4316-fd55-b4627ee3e189"
      },
      "outputs": [
        {
          "output_type": "execute_result",
          "data": {
            "text/plain": [
              "{'layer_1': {'node_1': {'weights': array([0.58, 0.31, 0.86, 0.38, 0.59]),\n",
              "   'bias': array([0.15])},\n",
              "  'node_2': {'weights': array([0.42, 0.94, 0.43, 0.31, 0.77]),\n",
              "   'bias': array([0.51])},\n",
              "  'node_3': {'weights': array([0.15, 0.87, 0.59, 0.86, 0.77]),\n",
              "   'bias': array([0.99])}},\n",
              " 'layer_2': {'node_1': {'weights': array([0.11, 0.61, 0.14]),\n",
              "   'bias': array([0.39])},\n",
              "  'node_2': {'weights': array([0.12, 0.84, 0.23]), 'bias': array([0.24])}},\n",
              " 'layer_3': {'node_1': {'weights': array([0.96, 0.88]), 'bias': array([0.85])},\n",
              "  'node_2': {'weights': array([0.4 , 0.72]), 'bias': array([0.13])},\n",
              "  'node_3': {'weights': array([0.32, 0.81]), 'bias': array([0.43])}},\n",
              " 'output': {'node_1': {'weights': array([0.69, 0.86, 0.39]),\n",
              "   'bias': array([0.46])}}}"
            ]
          },
          "metadata": {},
          "execution_count": 19
        }
      ],
      "source": [
        "### type code here\n",
        "network = initialize_network(5, 3, [3,2,3], 1)\n",
        "network"
      ]
    },
    {
      "cell_type": "markdown",
      "metadata": {
        "button": false,
        "new_sheet": false,
        "run_control": {
          "read_only": false
        },
        "id": "naXfp0WesuQr"
      },
      "source": [
        "  "
      ]
    },
    {
      "cell_type": "markdown",
      "metadata": {
        "button": false,
        "new_sheet": false,
        "run_control": {
          "read_only": false
        },
        "id": "77hEdlWcsuQr"
      },
      "source": [
        "<a id=\"item3\"></a>"
      ]
    },
    {
      "cell_type": "markdown",
      "metadata": {
        "id": "nt-iHSsSsuQr"
      },
      "source": [
        "<a id='item13'></a>"
      ]
    },
    {
      "cell_type": "markdown",
      "metadata": {
        "button": false,
        "new_sheet": false,
        "run_control": {
          "read_only": false
        },
        "id": "PDwAbKeMsuQr"
      },
      "source": [
        "## Compute Weighted Sum at Each Node"
      ]
    },
    {
      "cell_type": "markdown",
      "metadata": {
        "button": false,
        "new_sheet": false,
        "run_control": {
          "read_only": false
        },
        "id": "AKOHG0H0suQr"
      },
      "source": [
        "The weighted sum at each node is computed as the dot product of the inputs and the weights plus the bias. So let's create a function called *compute_weighted_sum* that does just that."
      ]
    },
    {
      "cell_type": "code",
      "execution_count": 20,
      "metadata": {
        "button": false,
        "new_sheet": false,
        "run_control": {
          "read_only": false
        },
        "id": "E5PQEMeCsuQr"
      },
      "outputs": [],
      "source": [
        "def compute_weighted_sum(inputs, weights, bias):\n",
        "#     return np.sum(np.dot(inputs,weights)) + bias\n",
        "    return np.sum(inputs * weights) + bias\n",
        ""
      ]
    },
    {
      "cell_type": "markdown",
      "metadata": {
        "button": false,
        "new_sheet": false,
        "run_control": {
          "read_only": false
        },
        "id": "FNqxB1XZsuQs"
      },
      "source": [
        "Let's generate 5 inputs that we can feed to **small_network**."
      ]
    },
    {
      "cell_type": "code",
      "execution_count": 21,
      "metadata": {
        "button": false,
        "new_sheet": false,
        "run_control": {
          "read_only": false
        },
        "colab": {
          "base_uri": "https://localhost:8080/"
        },
        "id": "I3UFntFFsuQs",
        "outputId": "a317f3f0-2b54-407b-85f0-f0a5c86852d9"
      },
      "outputs": [
        {
          "output_type": "stream",
          "name": "stdout",
          "text": [
            "The inputs to the network are [0.15 0.74 0.26 0.53 0.01]\n"
          ]
        }
      ],
      "source": [
        "from random import seed\n",
        "import numpy as np\n",
        "\n",
        "np.random.seed(12)\n",
        "inputs = np.around(np.random.uniform(size=5), decimals=2)\n",
        "\n",
        "print('The inputs to the network are {}'.format(inputs))"
      ]
    },
    {
      "cell_type": "markdown",
      "metadata": {
        "button": false,
        "new_sheet": false,
        "run_control": {
          "read_only": false
        },
        "id": "lsc8ohnusuQs"
      },
      "source": [
        "#### Use the *compute_weighted_sum* function to compute the weighted sum at the first node in the first hidden layer."
      ]
    },
    {
      "cell_type": "code",
      "execution_count": 22,
      "metadata": {
        "button": false,
        "new_sheet": false,
        "run_control": {
          "read_only": false
        },
        "colab": {
          "base_uri": "https://localhost:8080/"
        },
        "id": "NKqEMidVsuQs",
        "outputId": "66a9b872-833c-4a60-b9f4-d82192194fbd"
      },
      "outputs": [
        {
          "output_type": "stream",
          "name": "stdout",
          "text": [
            "The weighted sum at the first node in the hidden layer is 0.8973\n"
          ]
        }
      ],
      "source": [
        "### type code here\n",
        "weighted_sum = compute_weighted_sum(inputs ,network['layer_1']['node_1']['weights'],network['layer_1']['node_1']['bias'])\n",
        "print('The weighted sum at the first node in the hidden layer is {}'.format(np.around(weighted_sum[0], decimals=4)))"
      ]
    },
    {
      "cell_type": "markdown",
      "metadata": {
        "button": false,
        "new_sheet": false,
        "run_control": {
          "read_only": false
        },
        "id": "9Xrj0fMssuQs"
      },
      "source": [
        "   "
      ]
    },
    {
      "cell_type": "markdown",
      "metadata": {
        "button": false,
        "new_sheet": false,
        "run_control": {
          "read_only": false
        },
        "id": "DoFR35M0suQs"
      },
      "source": [
        "<a id=\"item4\"></a>"
      ]
    },
    {
      "cell_type": "markdown",
      "metadata": {
        "id": "upIRUWNlsuQs"
      },
      "source": [
        "<a id='item14'></a>"
      ]
    },
    {
      "cell_type": "markdown",
      "metadata": {
        "button": false,
        "new_sheet": false,
        "run_control": {
          "read_only": false
        },
        "id": "6QuVd9zosuQs"
      },
      "source": [
        "## Compute Node Activation"
      ]
    },
    {
      "cell_type": "markdown",
      "metadata": {
        "button": false,
        "new_sheet": false,
        "run_control": {
          "read_only": false
        },
        "id": "FmdC3bbCsuQs"
      },
      "source": [
        "Recall that the output of each node is simply a non-linear tranformation of the weighted sum. We use activation functions for this mapping. Let's use the sigmoid function as the activation function here. So let's define a function that takes a weighted sum as input and returns the non-linear transformation of the input using the sigmoid function."
      ]
    },
    {
      "cell_type": "code",
      "execution_count": 23,
      "metadata": {
        "button": false,
        "new_sheet": false,
        "run_control": {
          "read_only": false
        },
        "id": "2C9mArBksuQs"
      },
      "outputs": [],
      "source": [
        "def node_activation(weighted_sum):\n",
        "    return 1.0 / (1.0 + np.exp(-1 * weighted_sum))"
      ]
    },
    {
      "cell_type": "markdown",
      "metadata": {
        "button": false,
        "new_sheet": false,
        "run_control": {
          "read_only": false
        },
        "id": "i3VIwlHxsuQt"
      },
      "source": [
        "#### Use the *node_activation* function to compute the output of the first node in the first hidden layer."
      ]
    },
    {
      "cell_type": "code",
      "execution_count": 25,
      "metadata": {
        "button": false,
        "new_sheet": false,
        "run_control": {
          "read_only": false
        },
        "colab": {
          "base_uri": "https://localhost:8080/"
        },
        "id": "GSF0YfYNsuQt",
        "outputId": "86896824-5713-4a2b-d807-2b01e536b8ae"
      },
      "outputs": [
        {
          "output_type": "stream",
          "name": "stdout",
          "text": [
            "Miguel Tlatenchi+ The output of the first node in the hidden layer is 0.7104\n"
          ]
        }
      ],
      "source": [
        "### type your answer here\n",
        "node_weights = network['layer_1']['node_1']['weights']\n",
        "node_bias = network['layer_1']['node_1']['bias']\n",
        "node_output = node_activation(compute_weighted_sum(inputs, node_weights, node_bias))\n",
        "print('Miguel Tlatenchi+ The output of the first node in the hidden layer is {}'.format(np.around(node_output[0], decimals=4)))\n"
      ]
    },
    {
      "cell_type": "markdown",
      "metadata": {
        "button": false,
        "new_sheet": false,
        "run_control": {
          "read_only": false
        },
        "id": "YPTuc9KksuQt"
      },
      "source": [
        "   "
      ]
    },
    {
      "cell_type": "markdown",
      "metadata": {
        "button": false,
        "new_sheet": false,
        "run_control": {
          "read_only": false
        },
        "id": "hX8FWZHFsuQt"
      },
      "source": [
        "<a id=\"item5\"></a>"
      ]
    },
    {
      "cell_type": "markdown",
      "metadata": {
        "id": "tB_iCxIzsuQt"
      },
      "source": [
        "<a id='item15'></a>"
      ]
    },
    {
      "cell_type": "markdown",
      "metadata": {
        "button": false,
        "new_sheet": false,
        "run_control": {
          "read_only": false
        },
        "id": "A5ZMwgyisuQt"
      },
      "source": [
        "## Forward Propagation"
      ]
    },
    {
      "cell_type": "markdown",
      "metadata": {
        "button": false,
        "new_sheet": false,
        "run_control": {
          "read_only": false
        },
        "id": "2TIA9nCrsuQt"
      },
      "source": [
        "The final piece of building a neural network that can perform predictions is to put everything together. So let's create a function that applies the *compute_weighted_sum* and *node_activation* functions to each node in the network and propagates the data all the way to the output layer and outputs a prediction for each node in the output layer."
      ]
    },
    {
      "cell_type": "markdown",
      "metadata": {
        "button": false,
        "new_sheet": false,
        "run_control": {
          "read_only": false
        },
        "id": "JrNU3fh0suQt"
      },
      "source": [
        "The way we are going to accomplish this is through the following procedure:\n",
        "\n",
        "1. Start with the input layer as the input to the first hidden layer.\n",
        "2. Compute the weighted sum at the nodes of the current layer.\n",
        "3. Compute the output of the nodes of the current layer.\n",
        "4. Set the output of the current layer to be the input to the next layer.\n",
        "5. Move to the next layer in the network.\n",
        "5. Repeat steps 2 - 4 until we compute the output of the output layer."
      ]
    },
    {
      "cell_type": "code",
      "execution_count": 26,
      "metadata": {
        "button": false,
        "new_sheet": false,
        "run_control": {
          "read_only": false
        },
        "id": "yODyZe9jsuQt"
      },
      "outputs": [],
      "source": [
        "def forward_propagate(network, inputs):\n",
        "\n",
        "    layer_inputs = list(inputs) # start with the input layer as the input to the first hidden layer\n",
        "\n",
        "    for layer in network:\n",
        "\n",
        "        layer_data = network[layer]\n",
        "\n",
        "        layer_outputs = []\n",
        "        for layer_node in layer_data:\n",
        "\n",
        "            node_data = layer_data[layer_node]\n",
        "\n",
        "            # compute the weighted sum and the output of each node at the same time\n",
        "            node_output = node_activation(compute_weighted_sum(layer_inputs, node_data['weights'], node_data['bias']))\n",
        "            layer_outputs.append(np.around(node_output[0], decimals=4))\n",
        "\n",
        "        if layer != 'output':\n",
        "            print('The outputs of the nodes in hidden layer number {} is {}'.format(layer.split('_')[1], layer_outputs))\n",
        "\n",
        "        layer_inputs = layer_outputs # set the output of this layer to be the input to next layer\n",
        "\n",
        "    network_predictions = layer_outputs\n",
        "    return network_predictions"
      ]
    },
    {
      "cell_type": "markdown",
      "metadata": {
        "button": false,
        "new_sheet": false,
        "run_control": {
          "read_only": false
        },
        "id": "ck-9wwkTsuQu"
      },
      "source": [
        "#### Use the *forward_propagate* function to compute the prediction of our small network"
      ]
    },
    {
      "cell_type": "code",
      "execution_count": 27,
      "metadata": {
        "button": false,
        "new_sheet": false,
        "run_control": {
          "read_only": false
        },
        "colab": {
          "base_uri": "https://localhost:8080/"
        },
        "id": "1cUvf-SjsuQu",
        "outputId": "348c69f5-9adc-471f-c627-9a753b680e38"
      },
      "outputs": [
        {
          "output_type": "stream",
          "name": "stdout",
          "text": [
            "The outputs of the nodes in hidden layer number 1 is [0.7104, 0.8253, 0.9066]\n",
            "The outputs of the nodes in hidden layer number 2 is [0.75, 0.7733]\n",
            "The outputs of the nodes in hidden layer number 3 is [0.9047, 0.7285, 0.7852]\n",
            "The predicted value by the network for the given input is [0.8826]\n"
          ]
        }
      ],
      "source": [
        "### type your answser here\n",
        "# print(inputs)\n",
        "predictions = forward_propagate(network, inputs)\n",
        "print('The predicted value by the network for the given input is {}'.format(np.around(predictions, decimals=4)))"
      ]
    },
    {
      "cell_type": "code",
      "execution_count": 28,
      "metadata": {
        "colab": {
          "base_uri": "https://localhost:8080/"
        },
        "id": "bXUh4W-zsuQu",
        "outputId": "0be1300a-b6e8-46c6-960d-ca3977b35202"
      },
      "outputs": [
        {
          "output_type": "execute_result",
          "data": {
            "text/plain": [
              "{'layer_1': {'node_1': {'weights': array([0.58, 0.31, 0.86, 0.38, 0.59]),\n",
              "   'bias': array([0.15])},\n",
              "  'node_2': {'weights': array([0.42, 0.94, 0.43, 0.31, 0.77]),\n",
              "   'bias': array([0.51])},\n",
              "  'node_3': {'weights': array([0.15, 0.87, 0.59, 0.86, 0.77]),\n",
              "   'bias': array([0.99])}},\n",
              " 'layer_2': {'node_1': {'weights': array([0.11, 0.61, 0.14]),\n",
              "   'bias': array([0.39])},\n",
              "  'node_2': {'weights': array([0.12, 0.84, 0.23]), 'bias': array([0.24])}},\n",
              " 'layer_3': {'node_1': {'weights': array([0.96, 0.88]), 'bias': array([0.85])},\n",
              "  'node_2': {'weights': array([0.4 , 0.72]), 'bias': array([0.13])},\n",
              "  'node_3': {'weights': array([0.32, 0.81]), 'bias': array([0.43])}},\n",
              " 'output': {'node_1': {'weights': array([0.69, 0.86, 0.39]),\n",
              "   'bias': array([0.46])}}}"
            ]
          },
          "metadata": {},
          "execution_count": 28
        }
      ],
      "source": [
        "network"
      ]
    },
    {
      "cell_type": "markdown",
      "metadata": {
        "id": "tvNVsTPgsuQu"
      },
      "source": [
        "### In order to store the activations of each layer, we can convert our forward_propagation as follows."
      ]
    },
    {
      "cell_type": "code",
      "execution_count": 29,
      "metadata": {
        "id": "HsGLlLGasuQu"
      },
      "outputs": [],
      "source": [
        "def sigmoid(z):\n",
        "    return 1 / (1 + np.exp(-z))\n",
        "\n",
        "# Define the forward propagation\n",
        "def forward_propagationS(network, inputs):\n",
        "    \"\"\"\n",
        "    Perform forward propagation through the network.\n",
        "    Arguments:\n",
        "        inputs: Input array.\n",
        "        network: Network dictionary with weights and biases.\n",
        "    Returns:\n",
        "        activations: List of activations for all layers.\n",
        "    \"\"\"\n",
        "    activations = [inputs]  # Start with the input layer\n",
        "    for layer in network.values():\n",
        "        z = []\n",
        "        a = []\n",
        "        for node in layer.values():\n",
        "            z_value = np.dot(activations[-1], node['weights']) + node['bias']\n",
        "            z.append(z_value)\n",
        "            a.append(sigmoid(z_value))\n",
        "        activations.append(np.array(a).flatten())\n",
        "    return activations"
      ]
    },
    {
      "cell_type": "code",
      "execution_count": 30,
      "metadata": {
        "colab": {
          "base_uri": "https://localhost:8080/"
        },
        "id": "uwpZYE_zsuQu",
        "outputId": "0ce55a5a-f0d0-4824-e5cf-d62523185e76"
      },
      "outputs": [
        {
          "output_type": "execute_result",
          "data": {
            "text/plain": [
              "[array([0.15, 0.74, 0.26, 0.53, 0.01]),\n",
              " array([0.71039434, 0.8252601 , 0.90663302]),\n",
              " array([0.74997532, 0.77329156]),\n",
              " array([0.90469132, 0.7284475 , 0.78522145]),\n",
              " array([0.88256404])]"
            ]
          },
          "metadata": {},
          "execution_count": 30
        }
      ],
      "source": [
        "predictions_s = forward_propagationS(network, inputs)\n",
        "predictions_s"
      ]
    },
    {
      "cell_type": "markdown",
      "metadata": {
        "button": false,
        "new_sheet": false,
        "run_control": {
          "read_only": false
        },
        "id": "6JABmTQ_suQu"
      },
      "source": [
        "So we built the code to define a neural network. We can specify the number of inputs that a neural network can take, the number of hidden layers as well as the number of nodes in each hidden layer, and the number of nodes in the output layer."
      ]
    },
    {
      "cell_type": "markdown",
      "metadata": {
        "button": false,
        "new_sheet": false,
        "run_control": {
          "read_only": false
        },
        "id": "ewcgI289suQu"
      },
      "source": [
        "Please use the *initialize_network* to create your neural network and define its weights and biases."
      ]
    },
    {
      "cell_type": "code",
      "execution_count": 32,
      "metadata": {
        "button": false,
        "new_sheet": false,
        "run_control": {
          "read_only": false
        },
        "id": "qxir-sNxsuQu"
      },
      "outputs": [],
      "source": [
        "my_network = initialize_network(5, 3, [2, 3, 2], 3)"
      ]
    },
    {
      "cell_type": "markdown",
      "metadata": {
        "button": false,
        "new_sheet": false,
        "run_control": {
          "read_only": false
        },
        "id": "Z7OoUgFAsuQv"
      },
      "source": [
        "Then, for a given input,"
      ]
    },
    {
      "cell_type": "code",
      "execution_count": 33,
      "metadata": {
        "button": false,
        "new_sheet": false,
        "run_control": {
          "read_only": false
        },
        "id": "f96ag-N5suQv"
      },
      "outputs": [],
      "source": [
        "inputs = np.around(np.random.uniform(size=5), decimals=2)"
      ]
    },
    {
      "cell_type": "markdown",
      "metadata": {
        "button": false,
        "new_sheet": false,
        "run_control": {
          "read_only": false
        },
        "id": "91rodi8tsuQv"
      },
      "source": [
        "we compute the network predictions."
      ]
    },
    {
      "cell_type": "code",
      "execution_count": 34,
      "metadata": {
        "button": false,
        "new_sheet": false,
        "run_control": {
          "read_only": false
        },
        "colab": {
          "base_uri": "https://localhost:8080/"
        },
        "id": "Jy6dLlyHsuQv",
        "outputId": "bfd2dbe2-5776-4621-ef8d-d24155e60ded"
      },
      "outputs": [
        {
          "output_type": "stream",
          "name": "stdout",
          "text": [
            "The outputs of the nodes in hidden layer number 1 is [0.8857, 0.8889]\n",
            "The outputs of the nodes in hidden layer number 2 is [0.7822, 0.6965, 0.7411]\n",
            "The outputs of the nodes in hidden layer number 3 is [0.868, 0.881]\n",
            "The predicted values by the network for the given input are [0.8952, 0.8222, 0.8035]\n"
          ]
        }
      ],
      "source": [
        "predictions = forward_propagate(my_network, inputs)\n",
        "print('The predicted values by the network for the given input are {}'.format(predictions))"
      ]
    },
    {
      "cell_type": "markdown",
      "metadata": {
        "button": false,
        "new_sheet": false,
        "run_control": {
          "read_only": false
        },
        "id": "SsfcUXqFsuQv"
      },
      "source": [
        "Feel free to play around with the code by creating different networks of different structures and enjoy making predictions using the *forward_propagate* function."
      ]
    },
    {
      "cell_type": "markdown",
      "metadata": {
        "id": "KRuNtZ0GsuQv"
      },
      "source": [
        "## Backward Propagation - Slides Example"
      ]
    },
    {
      "cell_type": "markdown",
      "metadata": {
        "id": "cP3RQ1dYsuQv"
      },
      "source": [
        "Backward propagation (backpropagation) is the process of computing gradients to adjust the weights and biases of a neural network, using the chain rule of differentiation. It is essential for training neural networks via optimization algorithms like gradient descent."
      ]
    },
    {
      "cell_type": "markdown",
      "metadata": {
        "id": "aJQMckoHsuQv"
      },
      "source": [
        "We will use the following example to derive and build the Backward Propagation function:"
      ]
    },
    {
      "cell_type": "markdown",
      "metadata": {
        "id": "m9YceBuVsuQv"
      },
      "source": [
        "![Slide example](https://raw.githubusercontent.com/Shangyue-CWU/CS457Draft/refs/heads/main/Neural_Example1.png)\n"
      ]
    },
    {
      "cell_type": "markdown",
      "metadata": {
        "id": "Wtwscg1LsuQv"
      },
      "source": [
        "#### Initialize Network"
      ]
    },
    {
      "cell_type": "code",
      "execution_count": 35,
      "metadata": {
        "id": "aitiSs96suQv"
      },
      "outputs": [],
      "source": [
        "# Define the initial network parameters\n",
        "inputs = np.array([0.1, 0.5])  # Input values i1 and i2\n",
        "\n",
        "w1, w2, w3, w4 = 0.1, 0.2, 0.3, 0.4  # Weights from input to hidden\n",
        "w5, w6, w7, w8 = 0.5, 0.6, 0.7, 0.8  # Weights from hidden to output\n",
        "\n",
        "b1  = 0.25  # Biases for the hidden layer\n",
        "b2 = 0.35 # Biases for the output layer\n",
        "outputs = np.array([0.05, 0.95])  # True output values"
      ]
    },
    {
      "cell_type": "markdown",
      "metadata": {
        "id": "SdBBSF10suQw"
      },
      "source": [
        "#### Forward Propagation"
      ]
    },
    {
      "cell_type": "code",
      "execution_count": 36,
      "metadata": {
        "id": "_ryqlmVOsuQw"
      },
      "outputs": [],
      "source": [
        "# Forward Propagation\n",
        "# Hidden layer\n",
        "z_h1 = w1 * inputs[0] + w3 * inputs[1] + b1\n",
        "z_h2 = w2 * inputs[0] + w4 * inputs[1] + b1\n",
        "h1 = sigmoid(z_h1)\n",
        "h2 = sigmoid(z_h2)\n",
        "\n",
        "# Output layer\n",
        "z_o1 = w5 * h1 + w7 * h2 + b2\n",
        "z_o2 = w6 * h1 + w8 * h2 + b2\n",
        "o1 = sigmoid(z_o1)\n",
        "o2 = sigmoid(z_o2)"
      ]
    },
    {
      "cell_type": "markdown",
      "metadata": {
        "id": "xiLPIVdqsuQw"
      },
      "source": [
        "#### Backward Propagation"
      ]
    },
    {
      "cell_type": "code",
      "execution_count": 37,
      "metadata": {
        "colab": {
          "base_uri": "https://localhost:8080/"
        },
        "id": "rsTib1AesuQw",
        "outputId": "25226c47-3fcf-4e2a-ae48-edccc7c74fe7"
      },
      "outputs": [
        {
          "output_type": "stream",
          "name": "stdout",
          "text": [
            "Check parameters: 0.6967422944416473 0.18911824013367143 0.6010878788483698 0.07920335211124074\n",
            "Updated w5: 0.45247798873325557\n"
          ]
        }
      ],
      "source": [
        "# Backward Propagation\n",
        "# Define sigmoid derivative function\n",
        "def sigmoid_derivative(a):\n",
        "    return a * (1 - a)\n",
        "\n",
        "# Compute errors at the output\n",
        "error_o1 = o1 - outputs[0]\n",
        "error_o2 = o2 - outputs[1]\n",
        "\n",
        "# Gradients for output layer weights\n",
        "d_w5 = error_o1 * sigmoid_derivative(o1) * h1\n",
        "d_w6 = error_o2 * sigmoid_derivative(o2) * h1\n",
        "d_w7 = error_o1 * sigmoid_derivative(o1) * h2\n",
        "d_w8 = error_o2 * sigmoid_derivative(o2) * h2\n",
        "\n",
        "\n",
        "print(\"Check parameters:\", error_o1 , sigmoid_derivative(o1) , h1,d_w5)\n",
        "\n",
        "learning_rate = 0.6\n",
        "# Update w5, w6, w7, 8\n",
        "w5 = w5 - learning_rate * d_w5\n",
        "w6 = w6 - learning_rate * d_w6\n",
        "w7 = w7 - learning_rate * d_w7\n",
        "w8 = w8 - learning_rate * d_w8\n",
        "\n",
        "\n",
        "print(\"Updated w5:\", w5)"
      ]
    },
    {
      "cell_type": "code",
      "execution_count": 38,
      "metadata": {
        "colab": {
          "base_uri": "https://localhost:8080/"
        },
        "id": "xTa2uN-zsuQw",
        "outputId": "ee64bb1f-1e5f-42b0-85cb-f31124c19c56"
      },
      "outputs": [
        {
          "output_type": "execute_result",
          "data": {
            "text/plain": [
              "(0.6115908974377722, 0.6513477565699334, 0.8118665676953379)"
            ]
          },
          "metadata": {},
          "execution_count": 38
        }
      ],
      "source": [
        "w6,w7,w8"
      ]
    },
    {
      "cell_type": "code",
      "execution_count": 39,
      "metadata": {
        "colab": {
          "base_uri": "https://localhost:8080/"
        },
        "id": "3nClBn_jsuQw",
        "outputId": "4a34e785-b5fa-4579-9f0c-ca2782cf0e90"
      },
      "outputs": [
        {
          "output_type": "stream",
          "name": "stdout",
          "text": [
            "Updated w1: 0.0994250169757827\n",
            "Updated w2: 0.199151711181407\n",
            "Updated w3: 0.2971250848789134\n",
            "Updated w4: 0.39575855590703507\n"
          ]
        }
      ],
      "source": [
        "# Backward Propagation for w1, w2, w3, w4\n",
        "# Deltas for output layer\n",
        "delta_o1 = (o1 - outputs[0]) * sigmoid_derivative(o1)\n",
        "delta_o2 = (o2 - outputs[1]) * sigmoid_derivative(o2)\n",
        "\n",
        "# Deltas for hidden layer\n",
        "delta_h1 = (delta_o1 * w5 + delta_o2 * w6) * sigmoid_derivative(h1)\n",
        "delta_h2 = (delta_o1 * w7 + delta_o2 * w8) * sigmoid_derivative(h2)\n",
        "\n",
        "# Gradients for input-to-hidden weights\n",
        "d_w1 = delta_h1 * inputs[0]\n",
        "d_w2 = delta_h2 * inputs[0]\n",
        "d_w3 = delta_h1 * inputs[1]\n",
        "d_w4 = delta_h2 * inputs[1]\n",
        "\n",
        "# Update weights\n",
        "w1 = w1 - learning_rate * d_w1\n",
        "w2 = w2 - learning_rate * d_w2\n",
        "w3 = w3 - learning_rate * d_w3\n",
        "w4 = w4 - learning_rate * d_w4\n",
        "\n",
        "# Print updated weights\n",
        "print(\"Updated w1:\", w1)\n",
        "print(\"Updated w2:\", w2)\n",
        "print(\"Updated w3:\", w3)\n",
        "print(\"Updated w4:\", w4)\n"
      ]
    },
    {
      "cell_type": "markdown",
      "metadata": {
        "id": "0_o46hNusuQw"
      },
      "source": [
        "#### Convert to a function"
      ]
    },
    {
      "cell_type": "markdown",
      "metadata": {
        "id": "T6ZR_gJysuQw"
      },
      "source": [
        "We convert the above idea into a standard back-propagation function and feed back the weight of each level."
      ]
    },
    {
      "cell_type": "code",
      "execution_count": 40,
      "metadata": {
        "id": "34_QkCu8suQw"
      },
      "outputs": [],
      "source": [
        "def backpropagation_with_updates(network, activations, y_true, learning_rate):\n",
        "    \"\"\"\n",
        "    Perform backpropagation to calculate gradients and update weights for each layer.\n",
        "    Arguments:\n",
        "        network: Dictionary containing layers with weights and biases.\n",
        "        activations: List of activations from forward propagation.\n",
        "        y_true: Ground truth labels.\n",
        "        learning_rate: Learning rate for weight updates.\n",
        "    Returns:\n",
        "        network: Updated network with modified weights and biases.\n",
        "    \"\"\"\n",
        "    # Step 1: Compute deltas for the output layer\n",
        "    # Calculate the error (delta) for the output layer by comparing the predicted output (activations[-1])\n",
        "    # with the true labels (y_true) and applying the derivative of the activation function.\n",
        "    delta_output = (activations[-1] - y_true) * sigmoid_derivative(activations[-1])\n",
        "\n",
        "    # Step 2: Backpropagate through each layer\n",
        "    # Iterate through the layers in reverse order (from output to input)\n",
        "    for layer_idx in reversed(range(len(network))):\n",
        "        # Get the current layer's name and data\n",
        "        layer_name = list(network.keys())[layer_idx]\n",
        "        current_layer = network[layer_name]\n",
        "\n",
        "        if layer_name == 'output':\n",
        "            # For the output layer, use the precomputed delta\n",
        "            delta = delta_output\n",
        "        else:\n",
        "            # For hidden layers, compute the delta by propagating the error backward\n",
        "            # Multiply the current delta with the weights of the next layer (transposed),\n",
        "            # then apply the derivative of the activation function.\n",
        "\n",
        "            next_layer_name = list(network.keys())[layer_idx + 1]\n",
        "            next_layer = network[next_layer_name]\n",
        "            weight_matrix = np.array([node['weights'] for node in next_layer.values()])\n",
        "#             print('weight_matrix:',weight_matrix)\n",
        "\n",
        "            #Apply the derivative of the activation function to scale the delta for the current layer.\n",
        "            # This ensures the gradient respects the activation function's behavior.\n",
        "            delta = np.dot(delta, weight_matrix.T) * sigmoid_derivative(activations[layer_idx + 1])\n",
        "\n",
        "        # Loop through each node in the current layer\n",
        "        for node_idx, (node_name, node_data) in enumerate(current_layer.items()):\n",
        "            # Get the activations from the previous layer (or input for the first hidden layer)\n",
        "            a_prev = activations[layer_idx]\n",
        "\n",
        "            # Compute the gradients for weights (dW) and biases (db)\n",
        "            dW = delta[node_idx] * a_prev  # Gradient of weights\n",
        "            db = delta[node_idx]           # Gradient of biases\n",
        "\n",
        "            # Update weights and biases using gradient descent\n",
        "            current_layer[node_name]['weights'] -= learning_rate * dW  # Update weights\n",
        "            current_layer[node_name]['bias'] -= learning_rate * db     # Update bias\n",
        "\n",
        "    # Return the updated network with modified weights and biases\n",
        "    return network\n"
      ]
    },
    {
      "cell_type": "markdown",
      "metadata": {
        "id": "Q2OqJs2SsuQx"
      },
      "source": [
        "Test our backpropagation function"
      ]
    },
    {
      "cell_type": "code",
      "execution_count": 46,
      "metadata": {
        "colab": {
          "base_uri": "https://localhost:8080/"
        },
        "id": "wyYfJ4azsuQx",
        "outputId": "1678b5e8-e40d-4ca4-bf79-82c60e1eb632"
      },
      "outputs": [
        {
          "output_type": "stream",
          "name": "stdout",
          "text": [
            "activations with the first forward pass:  [array([0.1, 0.5]), array([0.60108788, 0.61538376]), array([0.74674229, 0.76905088])]\n",
            "Miguel Tlatenchi+Updated Weights and Biases:\n",
            "Layer: layer_1\n",
            "  Node: node_1, Weights: [0.0994434 0.297217 ], Bias: [0.244434]\n",
            "  Node: node_2, Weights: [0.19922611 0.39613053], Bias: [0.24226106]\n",
            "Layer: output\n",
            "  Node: node_1, Weights: [0.45247799 0.65134776], Bias: [0.27093999]\n",
            "  Node: node_2, Weights: [0.6115909  0.81186657], Bias: [0.3692832]\n"
          ]
        }
      ],
      "source": [
        "# Example inputs\n",
        "inputs = np.array([0.1, 0.5])  # Input layer\n",
        "y_true = np.array([0.05, 0.95])  # Target output\n",
        "learning_rate = 0.6  # Learning rate\n",
        "\n",
        "# Manually initialize network\n",
        "network = {\n",
        "    'layer_1': {\n",
        "        'node_1': {'weights': np.array([0.1, 0.3]), 'bias': np.array([0.25])},\n",
        "        'node_2': {'weights': np.array([0.2, 0.4]), 'bias': np.array([0.25])},\n",
        "    },\n",
        "    'output': {\n",
        "        'node_1': {'weights': np.array([0.5, 0.7]), 'bias': np.array([0.35])},\n",
        "        'node_2': {'weights': np.array([0.6, 0.8]), 'bias': np.array([0.35])},\n",
        "    },\n",
        "}\n",
        "\n",
        "# Perform forward propagation\n",
        "activations = forward_propagationS(network,inputs)\n",
        "print(\"activations with the first forward pass: \",activations)\n",
        "\n",
        "# Perform backpropagation and weight updates\n",
        "updated_network = backpropagation_with_updates(network, activations, y_true, learning_rate)\n",
        "\n",
        "# Print updated weights and biases\n",
        "print(\"Miguel Tlatenchi+Updated Weights and Biases:\")\n",
        "for layer_name, layer_nodes in updated_network.items():\n",
        "    print(f\"Layer: {layer_name}\")\n",
        "    for node_name, node_data in layer_nodes.items():\n",
        "        print(f\"  Node: {node_name}, Weights: {node_data['weights']}, Bias: {node_data['bias']}\")"
      ]
    },
    {
      "cell_type": "markdown",
      "metadata": {
        "id": "HyVMrFLVsuQx"
      },
      "source": [
        "## Visualize the change of loss"
      ]
    },
    {
      "cell_type": "code",
      "execution_count": 47,
      "metadata": {
        "colab": {
          "base_uri": "https://localhost:8080/",
          "height": 472
        },
        "id": "b1CINk2gsuQx",
        "outputId": "6c864504-8a40-4598-b9f5-cc381eb31e50"
      },
      "outputs": [
        {
          "output_type": "display_data",
          "data": {
            "text/plain": [
              "<Figure size 640x480 with 1 Axes>"
            ],
            "image/png": "[encoded data removed]"
          },
          "metadata": {}
        }
      ],
      "source": [
        "def compute_loss(y_true, y_pred):\n",
        "    \"\"\"\n",
        "    Compute the Mean Squared Error (MSE) loss.\n",
        "    Arguments:\n",
        "        y_true: Ground truth labels (numpy array).\n",
        "        y_pred: Predicted output from the network (numpy array).\n",
        "    Returns:\n",
        "        Mean Squared Error (scalar value).\n",
        "    \"\"\"\n",
        "    return np.mean((y_true - y_pred) ** 2)\n",
        "\n",
        "import matplotlib.pyplot as plt\n",
        "\n",
        "# Training Loop\n",
        "losses = []  # List to store the loss at each iteration\n",
        "learning_rate = 0.6  # Learning rate for weight updates\n",
        "\n",
        "# Iterate over the number of training steps (100 iterations in this case)\n",
        "for iteration in range(100):\n",
        "    # Step 1: Perform forward propagation to compute the network's predictions\n",
        "    activations = forward_propagationS(network, inputs)  # Forward pass\n",
        "\n",
        "    # Step 2: Compute the loss (error) between the true labels and the predicted output\n",
        "    loss = compute_loss(y_true, activations[-1])  # Loss for the current iteration\n",
        "    losses.append(loss)  # Append the computed loss to the list\n",
        "\n",
        "    # Step 3: Perform backpropagation to compute gradients and update weights\n",
        "    network = backpropagation_with_updates(network, activations, y_true, learning_rate)\n",
        "\n",
        "# Plot Loss\n",
        "plt.plot(losses)\n",
        "plt.title(\"Miguel Tlatenchi+Loss Before and After Weight Updates\")\n",
        "plt.xlabel(\"Iterations\")\n",
        "plt.ylabel(\"Loss\")\n",
        "plt.show()\n"
      ]
    },
    {
      "cell_type": "code",
      "execution_count": null,
      "metadata": {
        "id": "IW3yaNBqsuQx"
      },
      "outputs": [],
      "source": []
    }
  ],
  "metadata": {
    "kernelspec": {
      "display_name": "Python 3 (ipykernel)",
      "language": "python",
      "name": "python3"
    },
    "language_info": {
      "codemirror_mode": {
        "name": "ipython",
        "version": 3
      },
      "file_extension": ".py",
      "mimetype": "text/x-python",
      "name": "python",
      "nbconvert_exporter": "python",
      "pygments_lexer": "ipython3",
      "version": "3.11.8"
    },
    "colab": {
      "provenance": []
    }
  },
  "nbformat": 4,
  "nbformat_minor": 0
}